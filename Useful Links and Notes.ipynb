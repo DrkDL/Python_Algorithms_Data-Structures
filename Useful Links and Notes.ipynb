{
 "cells": [
  {
   "cell_type": "markdown",
   "id": "ad6ec974",
   "metadata": {},
   "source": [
    "# Python for Algorithms, Data Structures, and Interviews Notebook\n",
    "\n",
    "https://nbviewer.org/github/jmportilla/Python-for-Algorithms--Data-Structures--and-Interviews/tree/master/"
   ]
  },
  {
   "cell_type": "markdown",
   "id": "a8d5d2da",
   "metadata": {},
   "source": [
    "# Big-O Algorithm Complexity Cheat Sheet\n",
    "\n",
    "https://nbviewer.org/github/jmportilla/Python-for-Algorithms--Data-Structures--and-Interviews/tree/master/"
   ]
  },
  {
   "cell_type": "markdown",
   "id": "488d6db3",
   "metadata": {},
   "source": [
    "# How To Use String Formatters in Python 3\n",
    "\n",
    "https://www.digitalocean.com/community/tutorials/how-to-use-string-formatters-in-python-3"
   ]
  },
  {
   "cell_type": "code",
   "execution_count": null,
   "id": "8350ab05",
   "metadata": {},
   "outputs": [],
   "source": []
  }
 ],
 "metadata": {
  "kernelspec": {
   "display_name": "Python 3 (ipykernel)",
   "language": "python",
   "name": "python3"
  },
  "language_info": {
   "codemirror_mode": {
    "name": "ipython",
    "version": 3
   },
   "file_extension": ".py",
   "mimetype": "text/x-python",
   "name": "python",
   "nbconvert_exporter": "python",
   "pygments_lexer": "ipython3",
   "version": "3.9.7"
  }
 },
 "nbformat": 4,
 "nbformat_minor": 5
}
