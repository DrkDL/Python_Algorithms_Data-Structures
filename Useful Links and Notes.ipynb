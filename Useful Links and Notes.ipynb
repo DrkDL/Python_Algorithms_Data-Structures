{
 "cells": [
  {
   "cell_type": "markdown",
   "id": "488d6db3",
   "metadata": {},
   "source": [
    "# How To Use String Formatters in Python 3\n",
    "\n",
    "https://www.digitalocean.com/community/tutorials/how-to-use-string-formatters-in-python-3"
   ]
  },
  {
   "cell_type": "markdown",
   "id": "8350ab05",
   "metadata": {},
   "source": [
    "# Role of Underscore(_) in Python\n",
    "\n",
    "https://www.datacamp.com/community/tutorials/role-underscore-python"
   ]
  },
  {
   "cell_type": "markdown",
   "id": "6d876f4f",
   "metadata": {},
   "source": [
    "# Python Generators vs Iterators – Comparison\n",
    "\n",
    "https://data-flair.training/blogs/python-generator-vs-iterator/"
   ]
  },
  {
   "cell_type": "markdown",
   "id": "a52ef699",
   "metadata": {},
   "source": []
  }
 ],
 "metadata": {
  "kernelspec": {
   "display_name": "Python 3 (ipykernel)",
   "language": "python",
   "name": "python3"
  },
  "language_info": {
   "codemirror_mode": {
    "name": "ipython",
    "version": 3
   },
   "file_extension": ".py",
   "mimetype": "text/x-python",
   "name": "python",
   "nbconvert_exporter": "python",
   "pygments_lexer": "ipython3",
   "version": "3.9.7"
  }
 },
 "nbformat": 4,
 "nbformat_minor": 5
}
