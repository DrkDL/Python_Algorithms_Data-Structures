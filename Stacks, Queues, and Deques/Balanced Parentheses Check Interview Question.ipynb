{
 "cells": [
  {
   "cell_type": "code",
   "execution_count": 5,
   "id": "8b4ac432",
   "metadata": {},
   "outputs": [],
   "source": [
    "def balance_check(s):\n",
    "    \n",
    "    # edge case checking:\n",
    "    # if the number of brackets are odd then return false\n",
    "    if len(s) % 2 != 0:\n",
    "        return False\n",
    "    \n",
    "    # create a set of opening brackets\n",
    "    opening = set('([{')\n",
    "    \n",
    "    # create a set of matching pairs (three tuples)\n",
    "    matches = set([ ('(',')'), ('[',']'), ('{','}')])\n",
    "    \n",
    "    # create a stack list\n",
    "    stack = []\n",
    "    \n",
    "    for paren in s:\n",
    "        \n",
    "        # if there is an opening bracket, store it to the stack\n",
    "        if paren in opening:\n",
    "            stack.append(paren)\n",
    "        \n",
    "        else:\n",
    "            \n",
    "            # if the first one is not an opening bracket, return false\n",
    "            if len(stack) == 0:\n",
    "                return False\n",
    "            \n",
    "            # First In Last Out Principle\n",
    "            # store the opening bracket that will get removed\n",
    "            last_open = stack.pop()\n",
    "            \n",
    "            # if the opening bracket and the current closing bracket is not a match\n",
    "            # then return false\n",
    "            if (last_open, paren) not in matches:\n",
    "                return False\n",
    "    \n",
    "    # if all opening brackets have found its pair then stack list will be empty\n",
    "    # which is a balance, will return true\n",
    "    return len(stack) == 0"
   ]
  },
  {
   "cell_type": "code",
   "execution_count": 6,
   "id": "e19a1205",
   "metadata": {},
   "outputs": [
    {
     "data": {
      "text/plain": [
       "True"
      ]
     },
     "execution_count": 6,
     "metadata": {},
     "output_type": "execute_result"
    }
   ],
   "source": [
    "balance_check('[]')"
   ]
  },
  {
   "cell_type": "code",
   "execution_count": null,
   "id": "da52bfae",
   "metadata": {},
   "outputs": [],
   "source": []
  }
 ],
 "metadata": {
  "kernelspec": {
   "display_name": "Python 3 (ipykernel)",
   "language": "python",
   "name": "python3"
  },
  "language_info": {
   "codemirror_mode": {
    "name": "ipython",
    "version": 3
   },
   "file_extension": ".py",
   "mimetype": "text/x-python",
   "name": "python",
   "nbconvert_exporter": "python",
   "pygments_lexer": "ipython3",
   "version": "3.9.7"
  }
 },
 "nbformat": 4,
 "nbformat_minor": 5
}
