{
 "cells": [
  {
   "cell_type": "markdown",
   "id": "e6d546bf",
   "metadata": {},
   "source": [
    "## Queue -> First In First Out\n",
    "## 2 stacks will have one in and the other one out\n",
    "\n",
    "### equeue will store an item to the rear of the stackin list\n",
    "### dequeue will pop an item from the rear of the outstack list\n",
    "### if dequeue is run but outstack is empty then the data from instack \n",
    "### will be transfered to the outstack list in a reverse order, This is \n",
    "### because a queue in these stacks have a principle of FIFO."
   ]
  },
  {
   "cell_type": "code",
   "execution_count": 25,
   "id": "0a6a9cac",
   "metadata": {},
   "outputs": [],
   "source": [
    "class Queue2Stacks(object):\n",
    "    \n",
    "    def __init__(self):\n",
    "        \n",
    "        # Two Stacks\n",
    "        self.instack = []\n",
    "        self.outstack = []\n",
    "        \n",
    "    def enqueue(self, element):\n",
    "        \n",
    "        # store an item to the rear of the stackin list\n",
    "        self.instack.append(element)\n",
    "    \n",
    "    def dequeue(self):\n",
    "        \n",
    "        # if outstack is empty\n",
    "        if not self.outstack:\n",
    "            # transfer data from instack to outstack till instack is empty\n",
    "            while self.instack:\n",
    "                # data transfered in a reverse order\n",
    "                self.outstack.append(self.instack.pop())\n",
    "        \n",
    "        # remove the item from the rear of the outstack list\n",
    "        return self.outstack.pop()"
   ]
  },
  {
   "cell_type": "code",
   "execution_count": 26,
   "id": "9923635f",
   "metadata": {},
   "outputs": [],
   "source": [
    "s = Queue2Stacks()"
   ]
  },
  {
   "cell_type": "code",
   "execution_count": 27,
   "id": "3d1f5ecf",
   "metadata": {},
   "outputs": [],
   "source": [
    "s.enqueue(1)"
   ]
  },
  {
   "cell_type": "code",
   "execution_count": 28,
   "id": "5dcd2c3c",
   "metadata": {},
   "outputs": [],
   "source": [
    "s.enqueue(2)"
   ]
  },
  {
   "cell_type": "code",
   "execution_count": 29,
   "id": "1c2d9c4e",
   "metadata": {},
   "outputs": [
    {
     "data": {
      "text/plain": [
       "1"
      ]
     },
     "execution_count": 29,
     "metadata": {},
     "output_type": "execute_result"
    }
   ],
   "source": [
    "s.dequeue()"
   ]
  },
  {
   "cell_type": "code",
   "execution_count": 30,
   "id": "5ba26f1e",
   "metadata": {},
   "outputs": [],
   "source": [
    "s.enqueue(3)"
   ]
  },
  {
   "cell_type": "code",
   "execution_count": 31,
   "id": "54101db0",
   "metadata": {},
   "outputs": [],
   "source": [
    "s.enqueue(4)"
   ]
  },
  {
   "cell_type": "code",
   "execution_count": 32,
   "id": "3ae16175",
   "metadata": {},
   "outputs": [
    {
     "data": {
      "text/plain": [
       "2"
      ]
     },
     "execution_count": 32,
     "metadata": {},
     "output_type": "execute_result"
    }
   ],
   "source": [
    "s.dequeue()"
   ]
  },
  {
   "cell_type": "code",
   "execution_count": 33,
   "id": "e0a85ae6",
   "metadata": {},
   "outputs": [
    {
     "data": {
      "text/plain": [
       "3"
      ]
     },
     "execution_count": 33,
     "metadata": {},
     "output_type": "execute_result"
    }
   ],
   "source": [
    "s.dequeue()"
   ]
  },
  {
   "cell_type": "code",
   "execution_count": 34,
   "id": "c934357e",
   "metadata": {},
   "outputs": [
    {
     "data": {
      "text/plain": [
       "4"
      ]
     },
     "execution_count": 34,
     "metadata": {},
     "output_type": "execute_result"
    }
   ],
   "source": [
    "s.dequeue()"
   ]
  },
  {
   "cell_type": "code",
   "execution_count": null,
   "id": "8c16d6ca",
   "metadata": {},
   "outputs": [],
   "source": []
  }
 ],
 "metadata": {
  "kernelspec": {
   "display_name": "Python 3 (ipykernel)",
   "language": "python",
   "name": "python3"
  },
  "language_info": {
   "codemirror_mode": {
    "name": "ipython",
    "version": 3
   },
   "file_extension": ".py",
   "mimetype": "text/x-python",
   "name": "python",
   "nbconvert_exporter": "python",
   "pygments_lexer": "ipython3",
   "version": "3.9.7"
  }
 },
 "nbformat": 4,
 "nbformat_minor": 5
}
