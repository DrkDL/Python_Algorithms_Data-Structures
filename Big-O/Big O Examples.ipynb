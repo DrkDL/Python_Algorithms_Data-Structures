{
 "cells": [
  {
   "cell_type": "markdown",
   "id": "b281a8d3",
   "metadata": {},
   "source": [
    "# O(1) Constant"
   ]
  },
  {
   "cell_type": "code",
   "execution_count": 3,
   "id": "3c6571c8",
   "metadata": {},
   "outputs": [],
   "source": [
    "def func_constant(values):\n",
    "    print(values[0])"
   ]
  },
  {
   "cell_type": "code",
   "execution_count": 10,
   "id": "61a740c6",
   "metadata": {},
   "outputs": [
    {
     "name": "stdout",
     "output_type": "stream",
     "text": [
      "1\n"
     ]
    }
   ],
   "source": [
    "lst = [1, 2, 3, 4, 5, 6]\n",
    "func_constant(lst)"
   ]
  },
  {
   "cell_type": "markdown",
   "id": "704b35d3",
   "metadata": {},
   "source": [
    "# O(n) Linear"
   ]
  },
  {
   "cell_type": "code",
   "execution_count": 12,
   "id": "162d31dc",
   "metadata": {},
   "outputs": [],
   "source": [
    "def func_lin(lst):\n",
    "    for val in lst:\n",
    "        print(val)"
   ]
  },
  {
   "cell_type": "code",
   "execution_count": 13,
   "id": "4e08659f",
   "metadata": {},
   "outputs": [
    {
     "name": "stdout",
     "output_type": "stream",
     "text": [
      "1\n",
      "2\n",
      "3\n",
      "4\n",
      "5\n",
      "6\n"
     ]
    }
   ],
   "source": [
    "func_lin(lst)"
   ]
  },
  {
   "cell_type": "markdown",
   "id": "129d228e",
   "metadata": {},
   "source": [
    "# o(n^2) Quadratic"
   ]
  },
  {
   "cell_type": "code",
   "execution_count": 17,
   "id": "8d8f22aa",
   "metadata": {},
   "outputs": [],
   "source": [
    "def func_quad(lst):\n",
    "    for item_1 in lst:\n",
    "        for item_2 in lst:\n",
    "            print(item_1, item_2)"
   ]
  },
  {
   "cell_type": "code",
   "execution_count": 21,
   "id": "07066a21",
   "metadata": {},
   "outputs": [
    {
     "name": "stdout",
     "output_type": "stream",
     "text": [
      "1 1\n",
      "1 2\n",
      "1 3\n",
      "2 1\n",
      "2 2\n",
      "2 3\n",
      "3 1\n",
      "3 2\n",
      "3 3\n"
     ]
    }
   ],
   "source": [
    "lst = [1, 2, 3]\n",
    "\n",
    "func_quad(lst)"
   ]
  },
  {
   "cell_type": "code",
   "execution_count": 19,
   "id": "14ea7fb3",
   "metadata": {},
   "outputs": [],
   "source": [
    "# another linear example O(n)\n",
    "def print_once(lst):\n",
    "    for val in lst:\n",
    "        print(val)"
   ]
  },
  {
   "cell_type": "code",
   "execution_count": 20,
   "id": "3e8e02b5",
   "metadata": {},
   "outputs": [
    {
     "name": "stdout",
     "output_type": "stream",
     "text": [
      "1\n",
      "2\n",
      "3\n"
     ]
    }
   ],
   "source": [
    "print_once(lst)"
   ]
  },
  {
   "cell_type": "code",
   "execution_count": 25,
   "id": "fb651f82",
   "metadata": {},
   "outputs": [],
   "source": [
    "# another linear example O(2n) ... O(n)\n",
    "def print_2(lst):\n",
    "    for val in lst:\n",
    "        print(val)\n",
    "    for val in lst:\n",
    "        print(val)"
   ]
  },
  {
   "cell_type": "code",
   "execution_count": 26,
   "id": "210c4266",
   "metadata": {},
   "outputs": [
    {
     "name": "stdout",
     "output_type": "stream",
     "text": [
      "1\n",
      "2\n",
      "3\n",
      "1\n",
      "2\n",
      "3\n"
     ]
    }
   ],
   "source": [
    "print_2(lst)"
   ]
  },
  {
   "cell_type": "code",
   "execution_count": 30,
   "id": "b65d1fc5",
   "metadata": {},
   "outputs": [],
   "source": [
    "# another linear example O(n)\n",
    "def comp(lst):\n",
    "    print(lst[0]) #O(1)\n",
    "    \n",
    "    ### O(n/2) ... O(1/2 * n)\n",
    "    midpoint = int(len(lst)/2)\n",
    "    \n",
    "    for val in lst[:midpoint]:\n",
    "        print(val)\n",
    "    ###\n",
    "    \n",
    "    for x in range(10): # O(10)\n",
    "        print(\"hello world\")"
   ]
  },
  {
   "cell_type": "code",
   "execution_count": 32,
   "id": "f00ea9c0",
   "metadata": {},
   "outputs": [
    {
     "name": "stdout",
     "output_type": "stream",
     "text": [
      "1\n",
      "1\n",
      "2\n",
      "3\n",
      "4\n",
      "5\n",
      "hello world\n",
      "hello world\n",
      "hello world\n",
      "hello world\n",
      "hello world\n",
      "hello world\n",
      "hello world\n",
      "hello world\n",
      "hello world\n",
      "hello world\n"
     ]
    }
   ],
   "source": [
    "lst = [1, 2, 3, 4, 5, 6, 7, 8, 9, 10]\n",
    "\n",
    "comp(lst)"
   ]
  },
  {
   "cell_type": "markdown",
   "id": "ce19ed51",
   "metadata": {},
   "source": [
    "# O(1 + n/2 + 10) ... O(n)"
   ]
  },
  {
   "cell_type": "code",
   "execution_count": 33,
   "id": "13f0ce7e",
   "metadata": {},
   "outputs": [],
   "source": [
    "def matcher(lst, match):\n",
    "    for item in lst:\n",
    "        if item == match:\n",
    "            return True\n",
    "    return False"
   ]
  },
  {
   "cell_type": "code",
   "execution_count": 34,
   "id": "1c7cbc45",
   "metadata": {},
   "outputs": [
    {
     "data": {
      "text/plain": [
       "[1, 2, 3, 4, 5, 6, 7, 8, 9, 10]"
      ]
     },
     "execution_count": 34,
     "metadata": {},
     "output_type": "execute_result"
    }
   ],
   "source": [
    "lst"
   ]
  },
  {
   "cell_type": "code",
   "execution_count": 35,
   "id": "b700fb4a",
   "metadata": {},
   "outputs": [
    {
     "data": {
      "text/plain": [
       "True"
      ]
     },
     "execution_count": 35,
     "metadata": {},
     "output_type": "execute_result"
    }
   ],
   "source": [
    "matcher(lst, 1) # O(1) constant because there is a matching element"
   ]
  },
  {
   "cell_type": "code",
   "execution_count": 36,
   "id": "af4d10a5",
   "metadata": {},
   "outputs": [
    {
     "data": {
      "text/plain": [
       "False"
      ]
     },
     "execution_count": 36,
     "metadata": {},
     "output_type": "execute_result"
    }
   ],
   "source": [
    "matcher(lst, 11) # O(n) linear because every single element is checked (worst case)"
   ]
  },
  {
   "cell_type": "markdown",
   "id": "142b358f",
   "metadata": {},
   "source": [
    "# Space Complexity"
   ]
  },
  {
   "cell_type": "code",
   "execution_count": 38,
   "id": "80b726c1",
   "metadata": {},
   "outputs": [],
   "source": [
    "# linear space complexity\n",
    "def create_list(n):\n",
    "    new_list = []\n",
    "    \n",
    "    for num in range(n):\n",
    "        new_list.append('new')\n",
    "        \n",
    "    return new_list"
   ]
  },
  {
   "cell_type": "code",
   "execution_count": 39,
   "id": "0dc5d25e",
   "metadata": {},
   "outputs": [
    {
     "data": {
      "text/plain": [
       "['new', 'new', 'new', 'new', 'new']"
      ]
     },
     "execution_count": 39,
     "metadata": {},
     "output_type": "execute_result"
    }
   ],
   "source": [
    "create_list(5)"
   ]
  },
  {
   "cell_type": "code",
   "execution_count": 42,
   "id": "e9d602e9",
   "metadata": {},
   "outputs": [],
   "source": [
    "# linear time complexity - print 10 times - O(n)\n",
    "# constant space complexity - only one item - O(1)\n",
    "def printer(n):\n",
    "    for x in range(10):\n",
    "        print(\"Hello World!\")"
   ]
  },
  {
   "cell_type": "code",
   "execution_count": 43,
   "id": "3695681b",
   "metadata": {},
   "outputs": [
    {
     "name": "stdout",
     "output_type": "stream",
     "text": [
      "Hello World!\n",
      "Hello World!\n",
      "Hello World!\n",
      "Hello World!\n",
      "Hello World!\n",
      "Hello World!\n",
      "Hello World!\n",
      "Hello World!\n",
      "Hello World!\n",
      "Hello World!\n"
     ]
    }
   ],
   "source": [
    "printer(10)"
   ]
  },
  {
   "cell_type": "code",
   "execution_count": null,
   "id": "18234909",
   "metadata": {},
   "outputs": [],
   "source": []
  }
 ],
 "metadata": {
  "kernelspec": {
   "display_name": "Python 3 (ipykernel)",
   "language": "python",
   "name": "python3"
  },
  "language_info": {
   "codemirror_mode": {
    "name": "ipython",
    "version": 3
   },
   "file_extension": ".py",
   "mimetype": "text/x-python",
   "name": "python",
   "nbconvert_exporter": "python",
   "pygments_lexer": "ipython3",
   "version": "3.9.7"
  }
 },
 "nbformat": 4,
 "nbformat_minor": 5
}
