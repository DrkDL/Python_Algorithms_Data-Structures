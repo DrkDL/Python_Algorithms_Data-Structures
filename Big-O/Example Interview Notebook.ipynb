{
 "cells": [
  {
   "cell_type": "markdown",
   "id": "b98f0856",
   "metadata": {},
   "source": [
    "# Add Two Numbers\n",
    "\n",
    "## Problem\n",
    "\n",
    "Add two numbers together."
   ]
  },
  {
   "cell_type": "code",
   "execution_count": 1,
   "id": "d5352022",
   "metadata": {},
   "outputs": [],
   "source": [
    "def solution(num1, num2):\n",
    "    return num1 + num2"
   ]
  },
  {
   "cell_type": "code",
   "execution_count": 4,
   "id": "c7432f69",
   "metadata": {},
   "outputs": [
    {
     "name": "stdout",
     "output_type": "stream",
     "text": [
      "All Test Cases Passed\n"
     ]
    }
   ],
   "source": [
    "from nose.tools import assert_equal\n",
    "\n",
    "class SolutionTest(object):\n",
    "    \n",
    "    def test(self, sol):\n",
    "        assert_equal(sol(2, 2), 4)\n",
    "        assert_equal(sol(4, 4), 8)\n",
    "        \n",
    "        print(\"All Test Cases Passed\")\n",
    "\n",
    "# Run Tests\n",
    "t = SolutionTest()\n",
    "t.test(solution)"
   ]
  },
  {
   "cell_type": "code",
   "execution_count": null,
   "id": "2f73d1a5",
   "metadata": {},
   "outputs": [],
   "source": []
  }
 ],
 "metadata": {
  "kernelspec": {
   "display_name": "Python 3 (ipykernel)",
   "language": "python",
   "name": "python3"
  },
  "language_info": {
   "codemirror_mode": {
    "name": "ipython",
    "version": 3
   },
   "file_extension": ".py",
   "mimetype": "text/x-python",
   "name": "python",
   "nbconvert_exporter": "python",
   "pygments_lexer": "ipython3",
   "version": "3.9.7"
  }
 },
 "nbformat": 4,
 "nbformat_minor": 5
}
