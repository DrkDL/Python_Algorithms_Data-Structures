{
 "cells": [
  {
   "cell_type": "markdown",
   "id": "2fcf95ab",
   "metadata": {},
   "source": [
    "# Fast solution"
   ]
  },
  {
   "cell_type": "code",
   "execution_count": 35,
   "id": "e34be726",
   "metadata": {},
   "outputs": [],
   "source": [
    "def finder(arr1, arr2):\n",
    "    \n",
    "    # sort the array so it is easy to iterate and compare\n",
    "    arr1.sort()\n",
    "    arr2.sort()\n",
    "    \n",
    "    # check if the numbers in the pairs are equal, if not then return that missing number \n",
    "    for num1, num2 in zip(arr1, arr2):\n",
    "        if num1 != num2:\n",
    "            return num1\n",
    "    \n",
    "    # otherwise, return the last element of the last array\n",
    "    return arr1[-1]"
   ]
  },
  {
   "cell_type": "code",
   "execution_count": 36,
   "id": "c979f772",
   "metadata": {},
   "outputs": [
    {
     "data": {
      "text/plain": [
       "7"
      ]
     },
     "execution_count": 36,
     "metadata": {},
     "output_type": "execute_result"
    }
   ],
   "source": [
    "arr1 = [1, 2, 3, 4, 5, 6, 7]\n",
    "arr2 = [3, 2, 1, 4, 6, 5]\n",
    "finder(arr1, arr2)"
   ]
  },
  {
   "cell_type": "markdown",
   "id": "74679201",
   "metadata": {},
   "source": [
    "## Zip Explanation"
   ]
  },
  {
   "cell_type": "code",
   "execution_count": 37,
   "id": "1824f8bb",
   "metadata": {},
   "outputs": [
    {
     "name": "stdout",
     "output_type": "stream",
     "text": [
      "((1, 4), (2, 5), (3, 6))\n"
     ]
    }
   ],
   "source": [
    "# zip() function returns a zip object, which is an iterator of tuples where \n",
    "# the first item in each passed iterator is paired together, and then the \n",
    "# second item in each passed iterator are paired together etc.\n",
    "# If the passed iterators have different lengths, the iterator with the \n",
    "# least items decides the length of the new iterator. The extra item will\n",
    "# be ignored.\n",
    "\n",
    "# for example\n",
    "x = zip([1, 2, 3], [4, 5, 6, 7])\n",
    "print(tuple(x))"
   ]
  },
  {
   "cell_type": "markdown",
   "id": "080c16f0",
   "metadata": {},
   "source": [
    "# Hash table solution\n",
    "\n",
    "Note: The main difference between defaultdict and dict is that when you try \n",
    "to access or modify a key that’s not present in the dictionary, a default \n",
    "value is automatically given to that key."
   ]
  },
  {
   "cell_type": "code",
   "execution_count": 38,
   "id": "3f036fc1",
   "metadata": {},
   "outputs": [],
   "source": [
    "import collections"
   ]
  },
  {
   "cell_type": "code",
   "execution_count": 39,
   "id": "153c1dfb",
   "metadata": {},
   "outputs": [],
   "source": [
    "def finder2(arr1, arr2):\n",
    "    \n",
    "    # use defaultdict so it allows to avoid key errors\n",
    "    # it adds the key instead of giving errors\n",
    "    d = collections.defaultdict(int)\n",
    "    \n",
    "    # count how many times each element shows up\n",
    "    # add value to the key or num in the second array\n",
    "    for num in arr2:\n",
    "        d[num] += 1\n",
    "    \n",
    "    # subtract those elements that match \n",
    "    for num in arr1:\n",
    "        # return the number because it does not exist in the first array\n",
    "        # that's why the value for this key is 0\n",
    "        if d[num] == 0:\n",
    "            return num\n",
    "        \n",
    "        # subtract if there is a match\n",
    "        else:\n",
    "            d[num] -= 1"
   ]
  },
  {
   "cell_type": "code",
   "execution_count": 40,
   "id": "dae8f9c2",
   "metadata": {},
   "outputs": [
    {
     "data": {
      "text/plain": [
       "7"
      ]
     },
     "execution_count": 40,
     "metadata": {},
     "output_type": "execute_result"
    }
   ],
   "source": [
    "arr1 = [1, 2, 3, 4, 5, 6, 7]\n",
    "arr2 = [3, 2, 1, 4, 6, 5]\n",
    "finder2(arr1, arr2)"
   ]
  },
  {
   "cell_type": "markdown",
   "id": "ce17bd6d",
   "metadata": {},
   "source": [
    "# Clever Trick Solution using exclusive OR"
   ]
  },
  {
   "cell_type": "code",
   "execution_count": 42,
   "id": "9639df5e",
   "metadata": {},
   "outputs": [],
   "source": [
    "def finder3(arr1, arr2): \n",
    "    result = 0 \n",
    "    \n",
    "    # Perform an XOR between the numbers in the arrays\n",
    "    for num in arr1 + arr2: \n",
    "        result ^= num \n",
    "        print(result)\n",
    "        \n",
    "    return result"
   ]
  },
  {
   "cell_type": "code",
   "execution_count": 44,
   "id": "1aae277c",
   "metadata": {},
   "outputs": [
    {
     "name": "stdout",
     "output_type": "stream",
     "text": [
      "1\n",
      "3\n",
      "0\n",
      "4\n",
      "1\n",
      "7\n",
      "0\n",
      "3\n",
      "1\n",
      "0\n",
      "4\n",
      "2\n",
      "7\n"
     ]
    },
    {
     "data": {
      "text/plain": [
       "7"
      ]
     },
     "execution_count": 44,
     "metadata": {},
     "output_type": "execute_result"
    }
   ],
   "source": [
    "finder3(arr1, arr2)"
   ]
  },
  {
   "cell_type": "code",
   "execution_count": null,
   "id": "444e3a6a",
   "metadata": {},
   "outputs": [],
   "source": []
  }
 ],
 "metadata": {
  "kernelspec": {
   "display_name": "Python 3 (ipykernel)",
   "language": "python",
   "name": "python3"
  },
  "language_info": {
   "codemirror_mode": {
    "name": "ipython",
    "version": 3
   },
   "file_extension": ".py",
   "mimetype": "text/x-python",
   "name": "python",
   "nbconvert_exporter": "python",
   "pygments_lexer": "ipython3",
   "version": "3.9.7"
  }
 },
 "nbformat": 4,
 "nbformat_minor": 5
}
