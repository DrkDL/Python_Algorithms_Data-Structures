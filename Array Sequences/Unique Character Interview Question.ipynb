{
 "cells": [
  {
   "cell_type": "markdown",
   "id": "4295c833",
   "metadata": {},
   "source": [
    "## Simple One line Solution not ideal for interview"
   ]
  },
  {
   "cell_type": "code",
   "execution_count": 1,
   "id": "d3df4177",
   "metadata": {},
   "outputs": [],
   "source": [
    "def uni_char(s):\n",
    "    return len(set(s)) == len(s)"
   ]
  },
  {
   "cell_type": "code",
   "execution_count": 2,
   "id": "e2fb5f9c",
   "metadata": {},
   "outputs": [
    {
     "data": {
      "text/plain": [
       "True"
      ]
     },
     "execution_count": 2,
     "metadata": {},
     "output_type": "execute_result"
    }
   ],
   "source": [
    "uni_char('abcde')"
   ]
  },
  {
   "cell_type": "code",
   "execution_count": 3,
   "id": "60a5180a",
   "metadata": {},
   "outputs": [
    {
     "data": {
      "text/plain": [
       "False"
      ]
     },
     "execution_count": 3,
     "metadata": {},
     "output_type": "execute_result"
    }
   ],
   "source": [
    "uni_char('abcdea')"
   ]
  },
  {
   "cell_type": "markdown",
   "id": "edc37c9e",
   "metadata": {},
   "source": [
    "## Traditional Solution ideal for interview"
   ]
  },
  {
   "cell_type": "code",
   "execution_count": 10,
   "id": "ab9e15e5",
   "metadata": {},
   "outputs": [],
   "source": [
    "def uni_char2(s):\n",
    "    \n",
    "    chars = []\n",
    "    # alternative\n",
    "    # chars = set()\n",
    "    \n",
    "    for letter in s:\n",
    "        if letter in chars:\n",
    "            return False\n",
    "        else:\n",
    "            chars.append(letter)\n",
    "            #chars.add(letter)\n",
    "    return True"
   ]
  },
  {
   "cell_type": "code",
   "execution_count": 11,
   "id": "692d69d9",
   "metadata": {},
   "outputs": [
    {
     "data": {
      "text/plain": [
       "True"
      ]
     },
     "execution_count": 11,
     "metadata": {},
     "output_type": "execute_result"
    }
   ],
   "source": [
    "uni_char2('abcde')"
   ]
  },
  {
   "cell_type": "code",
   "execution_count": 12,
   "id": "1e5973a1",
   "metadata": {},
   "outputs": [
    {
     "data": {
      "text/plain": [
       "False"
      ]
     },
     "execution_count": 12,
     "metadata": {},
     "output_type": "execute_result"
    }
   ],
   "source": [
    "uni_char2('abcdea')"
   ]
  },
  {
   "cell_type": "code",
   "execution_count": null,
   "id": "0f328af5",
   "metadata": {},
   "outputs": [],
   "source": []
  }
 ],
 "metadata": {
  "kernelspec": {
   "display_name": "Python 3 (ipykernel)",
   "language": "python",
   "name": "python3"
  },
  "language_info": {
   "codemirror_mode": {
    "name": "ipython",
    "version": 3
   },
   "file_extension": ".py",
   "mimetype": "text/x-python",
   "name": "python",
   "nbconvert_exporter": "python",
   "pygments_lexer": "ipython3",
   "version": "3.9.7"
  }
 },
 "nbformat": 4,
 "nbformat_minor": 5
}
