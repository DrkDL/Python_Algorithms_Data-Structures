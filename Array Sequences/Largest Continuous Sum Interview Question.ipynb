{
 "cells": [
  {
   "cell_type": "code",
   "execution_count": 4,
   "id": "47ac72aa",
   "metadata": {},
   "outputs": [],
   "source": [
    "def large_count_sum(arr):\n",
    "    \n",
    "    if len(arr) == 0:\n",
    "        return 0 # or return none\n",
    "    \n",
    "    # Assign the same value to multiple variables\n",
    "    # Ex: a = b = 100 now both a and b are 100\n",
    "    max_sum = current_sum = arr[0]\n",
    "    \n",
    "    # skip the first element in the array since it's been added above\n",
    "    for num in arr[1:]:\n",
    "        \n",
    "        current_sum = max(current_sum + num, num)\n",
    "        \n",
    "        max_sum = max(current_sum, max_sum)\n",
    "        \n",
    "    return max_sum"
   ]
  },
  {
   "cell_type": "code",
   "execution_count": 7,
   "id": "eb6993db",
   "metadata": {},
   "outputs": [
    {
     "data": {
      "text/plain": [
       "29"
      ]
     },
     "execution_count": 7,
     "metadata": {},
     "output_type": "execute_result"
    }
   ],
   "source": [
    "large_count_sum([1, 2, -1, 3, 4, 10, 10, -10, -10, -10, 20])"
   ]
  },
  {
   "cell_type": "code",
   "execution_count": null,
   "id": "b4997dba",
   "metadata": {},
   "outputs": [],
   "source": []
  }
 ],
 "metadata": {
  "kernelspec": {
   "display_name": "Python 3 (ipykernel)",
   "language": "python",
   "name": "python3"
  },
  "language_info": {
   "codemirror_mode": {
    "name": "ipython",
    "version": 3
   },
   "file_extension": ".py",
   "mimetype": "text/x-python",
   "name": "python",
   "nbconvert_exporter": "python",
   "pygments_lexer": "ipython3",
   "version": "3.9.7"
  }
 },
 "nbformat": 4,
 "nbformat_minor": 5
}
