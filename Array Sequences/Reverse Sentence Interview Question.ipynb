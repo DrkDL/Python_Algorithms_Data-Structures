{
 "cells": [
  {
   "cell_type": "markdown",
   "id": "aa43280f",
   "metadata": {},
   "source": [
    "## One line solution but not ideal for interview"
   ]
  },
  {
   "cell_type": "code",
   "execution_count": 24,
   "id": "0d11b814",
   "metadata": {},
   "outputs": [],
   "source": [
    "# split(): Split a string into a list where each word is a list item\n",
    "\n",
    "# The join() method takes all items in an iterable and joins them into one string.\n",
    "# A string must be specified as the separator.\n",
    "# string.join(iterable)\n",
    "\n",
    "# The reversed() function returns an iterator that accesses the given sequence \n",
    "# in the reverse order.\n",
    "\n",
    "def rev_word1(s):\n",
    "    return \" \".join(reversed(s.split()))\n",
    "\n",
    "# list[<start>:<stop>:<step>]\n",
    "# a[::-1], it starts from the end towards the first taking each element. \n",
    "# This is applicable for lists/tuples as well.\n",
    "\n",
    "def rev_word2(s):\n",
    "    return \" \".join(s.split()[::-1])"
   ]
  },
  {
   "cell_type": "code",
   "execution_count": 25,
   "id": "581b5c8a",
   "metadata": {},
   "outputs": [
    {
     "data": {
      "text/plain": [
       "'go? to ready you are John, Hi'"
      ]
     },
     "execution_count": 25,
     "metadata": {},
     "output_type": "execute_result"
    }
   ],
   "source": [
    "rev_word1('Hi John,    are you   ready to go?   ')"
   ]
  },
  {
   "cell_type": "code",
   "execution_count": 26,
   "id": "20602356",
   "metadata": {},
   "outputs": [
    {
     "data": {
      "text/plain": [
       "'go? to ready you are John, Hi'"
      ]
     },
     "execution_count": 26,
     "metadata": {},
     "output_type": "execute_result"
    }
   ],
   "source": [
    "rev_word2('Hi John,    are you   ready to go?   ')"
   ]
  },
  {
   "cell_type": "markdown",
   "id": "e1a68906",
   "metadata": {},
   "source": [
    "## Traditional Solution which is ideal for interview"
   ]
  },
  {
   "cell_type": "code",
   "execution_count": 27,
   "id": "d5975e54",
   "metadata": {},
   "outputs": [],
   "source": [
    "def rev_word(s):\n",
    "    \n",
    "    word = [] # empty word list\n",
    "    length = len(s) # length of the string\n",
    "    space = [' '] # for space checking\n",
    "    \n",
    "    # index tracker for the while loop below\n",
    "    i = 0\n",
    "    \n",
    "    while i < length:\n",
    "        \n",
    "        if s[i] not in space: # can also do s[i] != ' '\n",
    "            \n",
    "            word_start = i # the first letter of the word\n",
    "            \n",
    "            while i < length and s[i] not in space:\n",
    "                \n",
    "                i += 1 # the rest of the word characters\n",
    "                \n",
    "            word.append(s[word_start:i]) # add the word to the word list\n",
    "            \n",
    "        i += 1 # keep running to the next character in the s string\n",
    "        \n",
    "    # join the space with the reversed word list so it becomes a sentence string\n",
    "    return \" \".join(list_reverse(word))\n",
    "\n",
    "def list_reverse(word):\n",
    "    \n",
    "    new_word = []\n",
    "    \n",
    "    # for i in range(startindex, stopindex, step):\n",
    "    \n",
    "    for i in range(len(word)-1, -1, -1):\n",
    "        \n",
    "        new_word.append(word[i])\n",
    "    \n",
    "    return new_word\n",
    "        "
   ]
  },
  {
   "cell_type": "code",
   "execution_count": 28,
   "id": "0aa2cf36",
   "metadata": {},
   "outputs": [
    {
     "data": {
      "text/plain": [
       "'go? to ready you are John, Hi'"
      ]
     },
     "execution_count": 28,
     "metadata": {},
     "output_type": "execute_result"
    }
   ],
   "source": [
    "rev_word('Hi John,    are you   ready to go?   ')"
   ]
  },
  {
   "cell_type": "code",
   "execution_count": null,
   "id": "691d0ba1",
   "metadata": {},
   "outputs": [],
   "source": []
  }
 ],
 "metadata": {
  "kernelspec": {
   "display_name": "Python 3 (ipykernel)",
   "language": "python",
   "name": "python3"
  },
  "language_info": {
   "codemirror_mode": {
    "name": "ipython",
    "version": 3
   },
   "file_extension": ".py",
   "mimetype": "text/x-python",
   "name": "python",
   "nbconvert_exporter": "python",
   "pygments_lexer": "ipython3",
   "version": "3.9.7"
  }
 },
 "nbformat": 4,
 "nbformat_minor": 5
}
