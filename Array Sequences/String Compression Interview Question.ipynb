{
 "cells": [
  {
   "cell_type": "code",
   "execution_count": 48,
   "id": "6ab6868e",
   "metadata": {},
   "outputs": [],
   "source": [
    "def compress(s):\n",
    "    \n",
    "    # empty string\n",
    "    r = \"\"\n",
    "    length = len(s)\n",
    "    \n",
    "    # edge cases checking\n",
    "    if length == 0:\n",
    "        return \"\"\n",
    "    \n",
    "    if length == 1:\n",
    "        return s + \"1\"\n",
    "    \n",
    "    # initialize values\n",
    "    count = 1\n",
    "    i = 1\n",
    "    \n",
    "    while i < length:\n",
    "        \n",
    "        # check to see if it is the same letter\n",
    "        if s[i] == s[i-1]:\n",
    "            \n",
    "            # add a count if same as previous\n",
    "            count += 1\n",
    "        else:\n",
    "            \n",
    "            # otherwise store the previous data\n",
    "            r += s[i-1] + str(count)\n",
    "            count = 1\n",
    "        \n",
    "        # keep running the next character in the s string\n",
    "        i += 1\n",
    "        \n",
    "    # store the rest to the string\n",
    "    r += s[i-1] + str(count)\n",
    "    \n",
    "    return r"
   ]
  },
  {
   "cell_type": "code",
   "execution_count": 49,
   "id": "ccb3e7a6",
   "metadata": {},
   "outputs": [
    {
     "data": {
      "text/plain": [
       "'A5B4C4'"
      ]
     },
     "execution_count": 49,
     "metadata": {},
     "output_type": "execute_result"
    }
   ],
   "source": [
    "compress('AAAAABBBBCCCC')"
   ]
  },
  {
   "cell_type": "markdown",
   "id": "a547fe97",
   "metadata": {},
   "source": [
    "## if do not want to see 1 for single character"
   ]
  },
  {
   "cell_type": "code",
   "execution_count": 50,
   "id": "86136db8",
   "metadata": {},
   "outputs": [],
   "source": [
    "def compress2(s):\n",
    "    \n",
    "    # empty string\n",
    "    r = \"\"\n",
    "    length = len(s)\n",
    "    \n",
    "    # edge cases checking\n",
    "    if length == 0:\n",
    "        return \"\"\n",
    "    \n",
    "    if length == 1:\n",
    "        return s + \"1\"\n",
    "    \n",
    "    # initialize values\n",
    "    count = 1\n",
    "    i = 1\n",
    "    \n",
    "    while i < length:\n",
    "        \n",
    "        # check to see if it is the same letter\n",
    "        if s[i] == s[i-1]:\n",
    "            \n",
    "            # add a count if same as previous\n",
    "            count += 1\n",
    "        else:\n",
    "            \n",
    "            # otherwise store the previous data\n",
    "            if count == 1:\n",
    "                r += s[i-1]\n",
    "            else:\n",
    "                r += s[i-1] + str(count)\n",
    "            \n",
    "            # reset the count\n",
    "            count = 1\n",
    "        \n",
    "        # keep running the next character in the s string\n",
    "        i += 1\n",
    "        \n",
    "    # store the rest to the string\n",
    "    if count == 1:\n",
    "        r += s[i-1]\n",
    "    else:\n",
    "        r += s[i-1] + str(count)\n",
    "    \n",
    "    return r"
   ]
  },
  {
   "cell_type": "code",
   "execution_count": 51,
   "id": "5e039384",
   "metadata": {},
   "outputs": [
    {
     "data": {
      "text/plain": [
       "'EA5B4C4DE9GF3'"
      ]
     },
     "execution_count": 51,
     "metadata": {},
     "output_type": "execute_result"
    }
   ],
   "source": [
    "compress2('EAAAAABBBBCCCCDEEEEEEEEEGFFF')"
   ]
  },
  {
   "cell_type": "code",
   "execution_count": null,
   "id": "7bf1eb02",
   "metadata": {},
   "outputs": [],
   "source": []
  }
 ],
 "metadata": {
  "kernelspec": {
   "display_name": "Python 3 (ipykernel)",
   "language": "python",
   "name": "python3"
  },
  "language_info": {
   "codemirror_mode": {
    "name": "ipython",
    "version": 3
   },
   "file_extension": ".py",
   "mimetype": "text/x-python",
   "name": "python",
   "nbconvert_exporter": "python",
   "pygments_lexer": "ipython3",
   "version": "3.9.7"
  }
 },
 "nbformat": 4,
 "nbformat_minor": 5
}
