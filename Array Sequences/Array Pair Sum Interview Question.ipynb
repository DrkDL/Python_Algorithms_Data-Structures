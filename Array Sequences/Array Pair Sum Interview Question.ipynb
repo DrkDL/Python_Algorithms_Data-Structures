{
 "cells": [
  {
   "cell_type": "code",
   "execution_count": 27,
   "id": "004d77b4",
   "metadata": {},
   "outputs": [],
   "source": [
    "def pair_sum(arr, k):\n",
    "    \n",
    "    # edge case check\n",
    "    if len(arr) < 2:\n",
    "        return\n",
    "    \n",
    "    # set() method is used to convert any of the iterable to sequence of iterable elements \n",
    "    # with distinct elements, commonly called Set.\n",
    "    # Properties of set()\n",
    "    # - No parameters are passed to create the empty set.\n",
    "    # - Dictionary can also be created using set, but only keys remain after conversion, \n",
    "    #   values are lost.\n",
    "    \n",
    "    # sets for tracking\n",
    "    seen = set()\n",
    "    output = set()\n",
    "    \n",
    "    for num in arr:\n",
    "        \n",
    "        # add a target to reach for by subtracting k which is the sum by the number in the list\n",
    "        target = k - num\n",
    "        \n",
    "        # add the number to the seen set if target not in seem set\n",
    "        if target not in seen:\n",
    "            seen.add(num)\n",
    "        \n",
    "        # add to the output if there is a matching pair\n",
    "        # using a set so that the keys remain and the values will be lost\n",
    "        # meaning that if ther is an identical one it will not be saved\n",
    "        # examples shown below highlighted as \"Set() Exaplained\"\n",
    "        # using min() and max() so that if the position for target and num is reversed,\n",
    "        # then it will still be the same, for example, (1, 2) is same as (2, 1)\n",
    "        else:\n",
    "            output.add( ((min(num, target)), max(num, target)) )\n",
    "            \n",
    "    #return len(output)\n",
    "    print('\\n'.join(map(str, list(output))))"
   ]
  },
  {
   "cell_type": "code",
   "execution_count": 28,
   "id": "e261682b",
   "metadata": {},
   "outputs": [
    {
     "name": "stdout",
     "output_type": "stream",
     "text": [
      "(1, 3)\n",
      "(2, 2)\n"
     ]
    }
   ],
   "source": [
    "pair_sum([1, 3, 2, 2], 4)"
   ]
  },
  {
   "cell_type": "markdown",
   "id": "7355648c",
   "metadata": {},
   "source": [
    "### Set() Exaplained"
   ]
  },
  {
   "cell_type": "code",
   "execution_count": 29,
   "id": "16cae2d3",
   "metadata": {},
   "outputs": [
    {
     "name": "stdout",
     "output_type": "stream",
     "text": [
      "(1, 2)\n",
      "(1, 2)\n",
      "(2, 3)\n",
      "(2, 1)\n"
     ]
    }
   ],
   "source": [
    "# a list will store those identical ones\n",
    "hello = []\n",
    "hello.append((1, 2))\n",
    "hello.append((1, 2))\n",
    "hello.append((2, 3))\n",
    "hello.append((2, 1))\n",
    "print('\\n'.join(map(str, list(hello))))"
   ]
  },
  {
   "cell_type": "code",
   "execution_count": 30,
   "id": "6ee642d5",
   "metadata": {},
   "outputs": [
    {
     "name": "stdout",
     "output_type": "stream",
     "text": [
      "(2, 3)\n",
      "(1, 2)\n",
      "(2, 1)\n"
     ]
    }
   ],
   "source": [
    "# a set will not store those identical ones\n",
    "hello2 = set()\n",
    "hello2.add((1, 2))\n",
    "hello2.add((1, 2))\n",
    "hello2.add((2, 3))\n",
    "hello2.add((2, 1))\n",
    "print('\\n'.join(map(str, list(hello2))))"
   ]
  },
  {
   "cell_type": "code",
   "execution_count": null,
   "id": "9b8553fd",
   "metadata": {},
   "outputs": [],
   "source": []
  }
 ],
 "metadata": {
  "kernelspec": {
   "display_name": "Python 3 (ipykernel)",
   "language": "python",
   "name": "python3"
  },
  "language_info": {
   "codemirror_mode": {
    "name": "ipython",
    "version": 3
   },
   "file_extension": ".py",
   "mimetype": "text/x-python",
   "name": "python",
   "nbconvert_exporter": "python",
   "pygments_lexer": "ipython3",
   "version": "3.9.7"
  }
 },
 "nbformat": 4,
 "nbformat_minor": 5
}
