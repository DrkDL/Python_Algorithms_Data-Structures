{
 "cells": [
  {
   "cell_type": "code",
   "execution_count": 1,
   "id": "da30b62a",
   "metadata": {},
   "outputs": [],
   "source": [
    "class Node:\n",
    "    \n",
    "    def __init__(self, value):\n",
    "        self.value = value\n",
    "        self.nextnode = None"
   ]
  },
  {
   "cell_type": "code",
   "execution_count": 2,
   "id": "af86b72a",
   "metadata": {},
   "outputs": [],
   "source": [
    "# The raise keyword is used to raise an exception.\n",
    "# You can define what kind of error to raise, and the text to print to the user.\n",
    "\n",
    "def nth_to_last_node(n, head):\n",
    "    \n",
    "    # create two pointer vairables that point to the head\n",
    "    # these will be used to create a 'block' with n nodes \n",
    "    # that will traverse to the end of the list\n",
    "    left_pointer = head\n",
    "    right_pointer = head\n",
    "    \n",
    "    # right_pointer traverse to the nth node from the head of list\n",
    "    for i in range(n-1):\n",
    "        \n",
    "        # error exception handling\n",
    "        if not right_pointer.nextnode:\n",
    "            raise ListError('Error: n is larger than the linked list')\n",
    "        \n",
    "        # traversing\n",
    "        right_pointer = right_pointer.nextnode\n",
    "    \n",
    "    # if the next node of the right_pointer is not null\n",
    "    while right_pointer.nextnode:\n",
    "        \n",
    "        # keep traversing\n",
    "        left_pointer = left_pointer.nextnode\n",
    "        right_pointer = right_pointer.nextnode\n",
    "    \n",
    "    # return the nth to last node\n",
    "    return left_pointer"
   ]
  },
  {
   "cell_type": "code",
   "execution_count": 3,
   "id": "4ad7182e",
   "metadata": {},
   "outputs": [],
   "source": [
    "# testing\n",
    "a = Node(1)\n",
    "b = Node(2)\n",
    "c = Node(3)\n",
    "d = Node(4)\n",
    "e = Node(5)\n",
    "\n",
    "a.nextnode = b\n",
    "b.nextnode = c\n",
    "c.nextnode = d\n",
    "d.nextnode = e"
   ]
  },
  {
   "cell_type": "code",
   "execution_count": 5,
   "id": "c314f77d",
   "metadata": {},
   "outputs": [
    {
     "data": {
      "text/plain": [
       "4"
      ]
     },
     "execution_count": 5,
     "metadata": {},
     "output_type": "execute_result"
    }
   ],
   "source": [
    "nth_to_last_node(2, a).value"
   ]
  },
  {
   "cell_type": "code",
   "execution_count": 6,
   "id": "d16330c4",
   "metadata": {},
   "outputs": [
    {
     "data": {
      "text/plain": [
       "2"
      ]
     },
     "execution_count": 6,
     "metadata": {},
     "output_type": "execute_result"
    }
   ],
   "source": [
    "nth_to_last_node(4, a).value"
   ]
  },
  {
   "cell_type": "code",
   "execution_count": null,
   "id": "71dfcecc",
   "metadata": {},
   "outputs": [],
   "source": []
  }
 ],
 "metadata": {
  "kernelspec": {
   "display_name": "Python 3 (ipykernel)",
   "language": "python",
   "name": "python3"
  },
  "language_info": {
   "codemirror_mode": {
    "name": "ipython",
    "version": 3
   },
   "file_extension": ".py",
   "mimetype": "text/x-python",
   "name": "python",
   "nbconvert_exporter": "python",
   "pygments_lexer": "ipython3",
   "version": "3.9.7"
  }
 },
 "nbformat": 4,
 "nbformat_minor": 5
}
