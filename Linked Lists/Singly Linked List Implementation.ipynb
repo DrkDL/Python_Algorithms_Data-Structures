{
 "cells": [
  {
   "cell_type": "code",
   "execution_count": 15,
   "id": "2ed37c07",
   "metadata": {},
   "outputs": [],
   "source": [
    "class Node(object):\n",
    "    \n",
    "    def __init__(self, value):\n",
    "        \n",
    "        self.val = value\n",
    "        self.nextnode = None"
   ]
  },
  {
   "cell_type": "code",
   "execution_count": 16,
   "id": "d51a15b3",
   "metadata": {},
   "outputs": [],
   "source": [
    "# create instances of Node object\n",
    "a = Node(1)\n",
    "b = Node(2)\n",
    "c = Node(3)"
   ]
  },
  {
   "cell_type": "code",
   "execution_count": 17,
   "id": "5c1ae4ed",
   "metadata": {},
   "outputs": [],
   "source": [
    "# assigning nextnodes\n",
    "a.nextnode = b\n",
    "b.nectnode = c"
   ]
  },
  {
   "cell_type": "code",
   "execution_count": 18,
   "id": "3c7eabb1",
   "metadata": {},
   "outputs": [
    {
     "data": {
      "text/plain": [
       "1"
      ]
     },
     "execution_count": 18,
     "metadata": {},
     "output_type": "execute_result"
    }
   ],
   "source": [
    "a.val"
   ]
  },
  {
   "cell_type": "code",
   "execution_count": 19,
   "id": "4a12778b",
   "metadata": {},
   "outputs": [
    {
     "data": {
      "text/plain": [
       "2"
      ]
     },
     "execution_count": 19,
     "metadata": {},
     "output_type": "execute_result"
    }
   ],
   "source": [
    "a.nextnode.val"
   ]
  },
  {
   "cell_type": "code",
   "execution_count": 20,
   "id": "ca72b861",
   "metadata": {},
   "outputs": [
    {
     "data": {
      "text/plain": [
       "2"
      ]
     },
     "execution_count": 20,
     "metadata": {},
     "output_type": "execute_result"
    }
   ],
   "source": [
    "b.val"
   ]
  },
  {
   "cell_type": "code",
   "execution_count": null,
   "id": "dfe74a5d",
   "metadata": {},
   "outputs": [],
   "source": []
  }
 ],
 "metadata": {
  "kernelspec": {
   "display_name": "Python 3 (ipykernel)",
   "language": "python",
   "name": "python3"
  },
  "language_info": {
   "codemirror_mode": {
    "name": "ipython",
    "version": 3
   },
   "file_extension": ".py",
   "mimetype": "text/x-python",
   "name": "python",
   "nbconvert_exporter": "python",
   "pygments_lexer": "ipython3",
   "version": "3.9.7"
  }
 },
 "nbformat": 4,
 "nbformat_minor": 5
}
