{
 "cells": [
  {
   "cell_type": "code",
   "execution_count": 6,
   "id": "5e16dfe5",
   "metadata": {},
   "outputs": [],
   "source": [
    "class Node(object):\n",
    "    \n",
    "    def __init__(self, val):\n",
    "        \n",
    "        self.value = val\n",
    "        self.nextnode = None"
   ]
  },
  {
   "cell_type": "code",
   "execution_count": 7,
   "id": "c313f7a3",
   "metadata": {},
   "outputs": [],
   "source": [
    "def cycle_check(node):\n",
    "    \n",
    "    # make two node variables starting from the first node\n",
    "    # one will travel faster than the other\n",
    "    marker1 = node\n",
    "    marker2 = node\n",
    "    \n",
    "    # if the next two nodes of the faster marker are not null                                                    \n",
    "    while marker2 != None and marker2.nextnode != None:\n",
    "        \n",
    "        marker1 = marker1.nextnode # slower marker\n",
    "        marker2 = marker2.nextnode.nextnode # faster marker\n",
    "        \n",
    "        # if the two meet up meaning there is a cycle, return true\n",
    "        if marker2 == marker1:\n",
    "            return True\n",
    "        \n",
    "    # return false if there is no cycle\n",
    "    return False"
   ]
  },
  {
   "cell_type": "code",
   "execution_count": 8,
   "id": "6134570d",
   "metadata": {},
   "outputs": [],
   "source": [
    "# create cycle list\n",
    "a = Node(1)\n",
    "b = Node(2)\n",
    "c = Node(3)\n",
    "\n",
    "# link the nodes\n",
    "a.nextnode = b\n",
    "b.nextnode = c\n",
    "c.nextnode = a # cycle here\n",
    "\n",
    "# create non cycle list\n",
    "x = Node(1)\n",
    "y = Node(2)\n",
    "z = Node(3)\n",
    "\n",
    "# link the nodes\n",
    "x.nextnode = y\n",
    "y.nextnode = z"
   ]
  },
  {
   "cell_type": "code",
   "execution_count": 9,
   "id": "e1be5174",
   "metadata": {},
   "outputs": [
    {
     "data": {
      "text/plain": [
       "True"
      ]
     },
     "execution_count": 9,
     "metadata": {},
     "output_type": "execute_result"
    }
   ],
   "source": [
    "# test the cycled list\n",
    "cycle_check(a)"
   ]
  },
  {
   "cell_type": "code",
   "execution_count": 10,
   "id": "d613a48b",
   "metadata": {},
   "outputs": [
    {
     "data": {
      "text/plain": [
       "False"
      ]
     },
     "execution_count": 10,
     "metadata": {},
     "output_type": "execute_result"
    }
   ],
   "source": [
    "# test the non cycled list\n",
    "cycle_check(x)"
   ]
  },
  {
   "cell_type": "code",
   "execution_count": null,
   "id": "b59e8251",
   "metadata": {},
   "outputs": [],
   "source": []
  }
 ],
 "metadata": {
  "kernelspec": {
   "display_name": "Python 3 (ipykernel)",
   "language": "python",
   "name": "python3"
  },
  "language_info": {
   "codemirror_mode": {
    "name": "ipython",
    "version": 3
   },
   "file_extension": ".py",
   "mimetype": "text/x-python",
   "name": "python",
   "nbconvert_exporter": "python",
   "pygments_lexer": "ipython3",
   "version": "3.9.7"
  }
 },
 "nbformat": 4,
 "nbformat_minor": 5
}
