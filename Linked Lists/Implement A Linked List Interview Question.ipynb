{
 "cells": [
  {
   "cell_type": "markdown",
   "id": "f299de21",
   "metadata": {},
   "source": [
    "# Implement a singly linked list"
   ]
  },
  {
   "cell_type": "code",
   "execution_count": 16,
   "id": "69a7ba51",
   "metadata": {},
   "outputs": [],
   "source": [
    "class Node(object):\n",
    "    \n",
    "    def __init__(self, value):\n",
    "        \n",
    "        self.value = value\n",
    "        self.nextnode = None"
   ]
  },
  {
   "cell_type": "code",
   "execution_count": 17,
   "id": "2a5ae588",
   "metadata": {},
   "outputs": [],
   "source": [
    "a = Node(1)\n",
    "b = Node(2)\n",
    "c = Node(3)\n",
    "d = Node(4)"
   ]
  },
  {
   "cell_type": "code",
   "execution_count": 18,
   "id": "f5a31983",
   "metadata": {},
   "outputs": [],
   "source": [
    "a.nextnode = b\n",
    "b.nextnode = c\n",
    "c.nextnode = d"
   ]
  },
  {
   "cell_type": "code",
   "execution_count": 19,
   "id": "2b063779",
   "metadata": {},
   "outputs": [
    {
     "name": "stdout",
     "output_type": "stream",
     "text": [
      "2\n"
     ]
    }
   ],
   "source": [
    "print(a.nextnode.value)"
   ]
  },
  {
   "cell_type": "code",
   "execution_count": 20,
   "id": "0308181c",
   "metadata": {},
   "outputs": [
    {
     "name": "stdout",
     "output_type": "stream",
     "text": [
      "4\n"
     ]
    }
   ],
   "source": [
    "print(c.nextnode.value)"
   ]
  },
  {
   "cell_type": "code",
   "execution_count": 21,
   "id": "e68879c3",
   "metadata": {},
   "outputs": [
    {
     "name": "stdout",
     "output_type": "stream",
     "text": [
      "2 4\n"
     ]
    }
   ],
   "source": [
    "print(b.value, d.value)"
   ]
  },
  {
   "cell_type": "markdown",
   "id": "574673b1",
   "metadata": {},
   "source": [
    "# Implement a doubly linked list"
   ]
  },
  {
   "cell_type": "code",
   "execution_count": 22,
   "id": "7316e7be",
   "metadata": {},
   "outputs": [],
   "source": [
    "class Node2(object):\n",
    "    \n",
    "    def __init__(self, value):\n",
    "        \n",
    "        self.value = value\n",
    "        self.next = None\n",
    "        self.previous = None"
   ]
  },
  {
   "cell_type": "code",
   "execution_count": 23,
   "id": "c5f225b9",
   "metadata": {},
   "outputs": [],
   "source": [
    "a = Node2(1)\n",
    "b = Node2(2)\n",
    "c = Node2(3)\n",
    "d = Node2(4)"
   ]
  },
  {
   "cell_type": "code",
   "execution_count": 24,
   "id": "f424ab2d",
   "metadata": {},
   "outputs": [],
   "source": [
    "a.next = b\n",
    "b.next = c\n",
    "c.next = d\n",
    "d.previous = c\n",
    "c.previous = b\n",
    "b.previous = a"
   ]
  },
  {
   "cell_type": "code",
   "execution_count": 25,
   "id": "ebe591ce",
   "metadata": {},
   "outputs": [
    {
     "name": "stdout",
     "output_type": "stream",
     "text": [
      "2 2\n"
     ]
    }
   ],
   "source": [
    "print(a.next.value, b.value)"
   ]
  },
  {
   "cell_type": "code",
   "execution_count": 27,
   "id": "1284ff7c",
   "metadata": {},
   "outputs": [
    {
     "name": "stdout",
     "output_type": "stream",
     "text": [
      "3 3\n"
     ]
    }
   ],
   "source": [
    "print(d.previous.value, c.value)"
   ]
  },
  {
   "cell_type": "code",
   "execution_count": null,
   "id": "d06617b4",
   "metadata": {},
   "outputs": [],
   "source": []
  }
 ],
 "metadata": {
  "kernelspec": {
   "display_name": "Python 3 (ipykernel)",
   "language": "python",
   "name": "python3"
  },
  "language_info": {
   "codemirror_mode": {
    "name": "ipython",
    "version": 3
   },
   "file_extension": ".py",
   "mimetype": "text/x-python",
   "name": "python",
   "nbconvert_exporter": "python",
   "pygments_lexer": "ipython3",
   "version": "3.9.7"
  }
 },
 "nbformat": 4,
 "nbformat_minor": 5
}
