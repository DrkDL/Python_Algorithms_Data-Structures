{
 "cells": [
  {
   "cell_type": "markdown",
   "id": "dac1d9ea",
   "metadata": {},
   "source": [
    "## Note: No slicing, eg: string[::-1] or use iteration"
   ]
  },
  {
   "cell_type": "code",
   "execution_count": 2,
   "id": "81c33252",
   "metadata": {},
   "outputs": [],
   "source": [
    "def reverse(s):\n",
    "    \n",
    "    # base case\n",
    "    # if there is only one letter left then just return it\n",
    "    if len(s) <= 1:\n",
    "        return s\n",
    "    \n",
    "    # recursion\n",
    "    # pop the last character to the end\n",
    "    # continue the recursion with the rest\n",
    "    return reverse(s[1:]) + s[0]"
   ]
  },
  {
   "cell_type": "code",
   "execution_count": 5,
   "id": "313b451a",
   "metadata": {},
   "outputs": [
    {
     "data": {
      "text/plain": [
       "'ba'"
      ]
     },
     "execution_count": 5,
     "metadata": {},
     "output_type": "execute_result"
    }
   ],
   "source": [
    "reverse('ab')"
   ]
  },
  {
   "cell_type": "code",
   "execution_count": 6,
   "id": "efa56d84",
   "metadata": {},
   "outputs": [
    {
     "data": {
      "text/plain": [
       "'gfedcba'"
      ]
     },
     "execution_count": 6,
     "metadata": {},
     "output_type": "execute_result"
    }
   ],
   "source": [
    "reverse('abcdefg')"
   ]
  },
  {
   "cell_type": "code",
   "execution_count": 7,
   "id": "408c4420",
   "metadata": {},
   "outputs": [
    {
     "data": {
      "text/plain": [
       "'dlrow olleh'"
      ]
     },
     "execution_count": 7,
     "metadata": {},
     "output_type": "execute_result"
    }
   ],
   "source": [
    "reverse('hello world')"
   ]
  },
  {
   "cell_type": "code",
   "execution_count": null,
   "id": "3213e593",
   "metadata": {},
   "outputs": [],
   "source": []
  }
 ],
 "metadata": {
  "kernelspec": {
   "display_name": "Python 3 (ipykernel)",
   "language": "python",
   "name": "python3"
  },
  "language_info": {
   "codemirror_mode": {
    "name": "ipython",
    "version": 3
   },
   "file_extension": ".py",
   "mimetype": "text/x-python",
   "name": "python",
   "nbconvert_exporter": "python",
   "pygments_lexer": "ipython3",
   "version": "3.9.7"
  }
 },
 "nbformat": 4,
 "nbformat_minor": 5
}
