{
 "cells": [
  {
   "cell_type": "markdown",
   "id": "bd894f86",
   "metadata": {},
   "source": [
    "# The goal is to get the nth value of Fibonnaci sequence\n",
    "\n",
    "## Iterative Solution\n",
    "\n",
    "### we can take advantage of Python's tuple unpacking"
   ]
  },
  {
   "cell_type": "code",
   "execution_count": 25,
   "id": "af836553",
   "metadata": {},
   "outputs": [],
   "source": [
    "def fib_iter(n):\n",
    "    \n",
    "    # create starting points\n",
    "    # can also do tuple unpacking a, b = 0, 1\n",
    "    a = 0\n",
    "    b = 1\n",
    "    \n",
    "    for i in range(n):\n",
    "        \n",
    "        # can also do tuple unpacking a, b = b, a+b\n",
    "        tmp = a\n",
    "        a = b\n",
    "        b = tmp + b\n",
    "        \n",
    "    return a"
   ]
  },
  {
   "cell_type": "code",
   "execution_count": 26,
   "id": "ce721fb1",
   "metadata": {},
   "outputs": [
    {
     "data": {
      "text/plain": [
       "55"
      ]
     },
     "execution_count": 26,
     "metadata": {},
     "output_type": "execute_result"
    }
   ],
   "source": [
    "fib_iter(10)"
   ]
  },
  {
   "cell_type": "code",
   "execution_count": 27,
   "id": "fd2d2f55",
   "metadata": {},
   "outputs": [
    {
     "data": {
      "text/plain": [
       "6765"
      ]
     },
     "execution_count": 27,
     "metadata": {},
     "output_type": "execute_result"
    }
   ],
   "source": [
    "fib_iter(20)"
   ]
  },
  {
   "cell_type": "markdown",
   "id": "9ebad4cb",
   "metadata": {},
   "source": [
    "## Recursive solution"
   ]
  },
  {
   "cell_type": "code",
   "execution_count": 28,
   "id": "a0edc781",
   "metadata": {},
   "outputs": [],
   "source": [
    "def fib_rec(n):\n",
    "    \n",
    "    # base case\n",
    "    if n == 0 or n == 1:\n",
    "        return n # just return n cuz it's where fib sequence starts\n",
    "    \n",
    "    # recursive case\n",
    "    else:\n",
    "        return fib_rec(n-1) + fib_rec(n-2)"
   ]
  },
  {
   "cell_type": "code",
   "execution_count": 29,
   "id": "57a74237",
   "metadata": {},
   "outputs": [
    {
     "data": {
      "text/plain": [
       "55"
      ]
     },
     "execution_count": 29,
     "metadata": {},
     "output_type": "execute_result"
    }
   ],
   "source": [
    "fib_rec(10)"
   ]
  },
  {
   "cell_type": "code",
   "execution_count": 30,
   "id": "afc1f5d1",
   "metadata": {},
   "outputs": [
    {
     "data": {
      "text/plain": [
       "6765"
      ]
     },
     "execution_count": 30,
     "metadata": {},
     "output_type": "execute_result"
    }
   ],
   "source": [
    "fib_rec(20)"
   ]
  },
  {
   "cell_type": "markdown",
   "id": "b3188c4d",
   "metadata": {},
   "source": [
    "## Dynamic solution using Memoization"
   ]
  },
  {
   "cell_type": "code",
   "execution_count": 31,
   "id": "a8e7f5ec",
   "metadata": {},
   "outputs": [],
   "source": [
    "# Instantiate cache information\n",
    "n = 10 # assume we already know the value at 10th\n",
    "cache = [None]*(n+1) # create a list of n+1 items with value of none for each\n",
    "\n",
    "def fib_dyn(n):\n",
    "    \n",
    "    # base case\n",
    "    if n == 0 or n == 1:\n",
    "        return n\n",
    "    \n",
    "    # check cache\n",
    "    if cache[n] != None:\n",
    "        return cache[n] # return that saved value if it is not none\n",
    "    \n",
    "    # keep setting cache\n",
    "    cache[n] = fib_dyn(n-1) + fib_dyn(n-2)\n",
    "    \n",
    "    return cache[n]"
   ]
  },
  {
   "cell_type": "code",
   "execution_count": 32,
   "id": "e9395587",
   "metadata": {},
   "outputs": [
    {
     "data": {
      "text/plain": [
       "55"
      ]
     },
     "execution_count": 32,
     "metadata": {},
     "output_type": "execute_result"
    }
   ],
   "source": [
    "fib_dyn(10) # the parameter has to match the cache we set above (n=10 in this case)"
   ]
  },
  {
   "cell_type": "code",
   "execution_count": 37,
   "id": "dc510087",
   "metadata": {},
   "outputs": [],
   "source": [
    "#fib_dyn(12) # will not work"
   ]
  },
  {
   "cell_type": "code",
   "execution_count": 33,
   "id": "0a3077b0",
   "metadata": {},
   "outputs": [],
   "source": [
    "# Better dynammic solution with memoization\n",
    "# so that we do not need to set the cache before the function\n",
    "\n",
    "def fib_dyn2(n, cache=None):\n",
    "    \n",
    "    # instantiate cache on first call\n",
    "    if cache == None:\n",
    "        cache = {} # use dict instead of list so we can add as many as we want\n",
    "    \n",
    "    # Base Case\n",
    "    if n <= 1:\n",
    "        return n\n",
    " \n",
    "    # Check cache for value\n",
    "    if n in cache:\n",
    "        return cache[n]\n",
    " \n",
    "    #Recursive Case\n",
    "    cache[n] = fib_dyn2(n-1, cache) + fib_dyn2(n-2, cache)  \n",
    "    return cache[n]"
   ]
  },
  {
   "cell_type": "code",
   "execution_count": 34,
   "id": "007256db",
   "metadata": {},
   "outputs": [
    {
     "data": {
      "text/plain": [
       "55"
      ]
     },
     "execution_count": 34,
     "metadata": {},
     "output_type": "execute_result"
    }
   ],
   "source": [
    "fib_dyn2(10)"
   ]
  },
  {
   "cell_type": "code",
   "execution_count": 35,
   "id": "da10a31f",
   "metadata": {},
   "outputs": [
    {
     "data": {
      "text/plain": [
       "6765"
      ]
     },
     "execution_count": 35,
     "metadata": {},
     "output_type": "execute_result"
    }
   ],
   "source": [
    "fib_dyn2(20)"
   ]
  },
  {
   "cell_type": "code",
   "execution_count": null,
   "id": "e6504b19",
   "metadata": {},
   "outputs": [],
   "source": []
  }
 ],
 "metadata": {
  "kernelspec": {
   "display_name": "Python 3 (ipykernel)",
   "language": "python",
   "name": "python3"
  },
  "language_info": {
   "codemirror_mode": {
    "name": "ipython",
    "version": 3
   },
   "file_extension": ".py",
   "mimetype": "text/x-python",
   "name": "python",
   "nbconvert_exporter": "python",
   "pygments_lexer": "ipython3",
   "version": "3.9.7"
  }
 },
 "nbformat": 4,
 "nbformat_minor": 5
}
