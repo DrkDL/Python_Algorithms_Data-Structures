{
 "cells": [
  {
   "cell_type": "markdown",
   "id": "a7f206d1",
   "metadata": {},
   "source": [
    "### Given a target amount n and a list (array) of distinct coin values, \n",
    "### what's the fewest coins needed to make the change amount.\n",
    "\n",
    "For example:\n",
    "\n",
    "If n = 10 and coins = [1,5,10]. Then there are 4 possible ways to make change:\n",
    "\n",
    "1+1+1+1+1+1+1+1+1+1\n",
    "\n",
    "5 + 1+1+1+1+1\n",
    "\n",
    "5+5\n",
    "\n",
    "10\n",
    "\n",
    "With 1 coin being the minimum amount."
   ]
  },
  {
   "cell_type": "markdown",
   "id": "2ccc1c8e",
   "metadata": {},
   "source": [
    "## Recursion Solution"
   ]
  },
  {
   "cell_type": "markdown",
   "id": "c9b1463b",
   "metadata": {},
   "source": [
    "### note: List comprehension offers a shorter syntax when you want to \n",
    "### create a new list based on the values of an existing list.\n",
    "### for ex:\n",
    "\n",
    "fruits = [\"apple\", \"banana\", \"cherry\", \"kiwi\", \"mango\"]\n",
    "newlist = []\n",
    "\n",
    "for x in fruits:\n",
    "  if \"a\" in x:\n",
    "    newlist.append(x)\n",
    "\n",
    "### is equivalent to \n",
    "\n",
    "fruits = [\"apple\", \"banana\", \"cherry\", \"kiwi\", \"mango\"]\n",
    "\n",
    "newlist = [x for x in fruits if \"a\" in x]"
   ]
  },
  {
   "cell_type": "code",
   "execution_count": 20,
   "id": "b1a71152",
   "metadata": {},
   "outputs": [],
   "source": [
    "# The problem with this approach is that it is very inefficient! \n",
    "# It can take many, many recursive calls to finish this problem and \n",
    "# its also inaccurate for non standard coin values (coin values that are not 1,5,10, etc.)\n",
    "\n",
    "def rec_coin(target, coins):\n",
    "    \n",
    "    # default to target value\n",
    "    min_coins = target\n",
    "    \n",
    "    # base case - check to see if we have single coin match\n",
    "    if target in coins:\n",
    "        return 1\n",
    "    \n",
    "    # recursion\n",
    "    else:\n",
    "        \n",
    "        # for every coin value that is <= target\n",
    "        for i in [c for c in coins if c <= target]:\n",
    "            \n",
    "            # add a coin count to the recursive call with a new target, and\n",
    "            # the new target is the current target subtracted by the current coin value\n",
    "            num_coins = 1 + rec_coin(target - i, coins)\n",
    "            \n",
    "            # reset minimum if we have a new minimum\n",
    "            if num_coins < min_coins:\n",
    "                \n",
    "                min_coins = num_coins\n",
    "        \n",
    "    return min_coins"
   ]
  },
  {
   "cell_type": "code",
   "execution_count": 21,
   "id": "7ed60f7c",
   "metadata": {},
   "outputs": [
    {
     "data": {
      "text/plain": [
       "2"
      ]
     },
     "execution_count": 21,
     "metadata": {},
     "output_type": "execute_result"
    }
   ],
   "source": [
    "rec_coin(15, [1, 5, 10])"
   ]
  },
  {
   "cell_type": "code",
   "execution_count": 22,
   "id": "505c1250",
   "metadata": {},
   "outputs": [],
   "source": [
    "# rec_coin(63, [1, 5, 10, 25]) -> this line will take forever to calculate"
   ]
  },
  {
   "cell_type": "markdown",
   "id": "06bae417",
   "metadata": {},
   "source": [
    "## Dynamic Solution"
   ]
  },
  {
   "cell_type": "code",
   "execution_count": 23,
   "id": "3dcce427",
   "metadata": {},
   "outputs": [],
   "source": [
    "def rec_coin_dyn(target, coins, known_results):\n",
    "    \n",
    "    # default output to target\n",
    "    min_coins = target\n",
    "    \n",
    "    # base case - check to see if we have single coin match\n",
    "    if target in coins:\n",
    "        known_results[target] = 1\n",
    "        return 1\n",
    "    \n",
    "    # return a known result if it happens to be greater than 1\n",
    "    elif known_results[target] > 0:\n",
    "        return known_results[target]\n",
    "    \n",
    "    else:\n",
    "        \n",
    "        # for every coin value that is <= target\n",
    "        for i in [c for c in coins if c <= target]:\n",
    "            \n",
    "            # add a coin count to the recursive call with a new target, and\n",
    "            # the new target is the current target subtracted by the current coin value\n",
    "            num_coins = 1 + rec_coin_dyn(target - i, coins, known_results)\n",
    "            \n",
    "            # reset minimum if we have a new minimum\n",
    "            if num_coins < min_coins:\n",
    "                \n",
    "                min_coins = num_coins\n",
    "                \n",
    "                # reset the known result\n",
    "                known_results[target] = min_coins\n",
    "    \n",
    "    return min_coins"
   ]
  },
  {
   "cell_type": "code",
   "execution_count": 28,
   "id": "4162d172",
   "metadata": {},
   "outputs": [
    {
     "data": {
      "text/plain": [
       "6"
      ]
     },
     "execution_count": 28,
     "metadata": {},
     "output_type": "execute_result"
    }
   ],
   "source": [
    "target = 63\n",
    "coins = [1, 5, 10, 25]\n",
    "known_results = [0] * (target+1)\n",
    "\n",
    "rec_coin_dyn(target, coins, known_results)"
   ]
  },
  {
   "cell_type": "code",
   "execution_count": 29,
   "id": "b2decc44",
   "metadata": {},
   "outputs": [],
   "source": [
    "# rec_coin_dyn(80, coins, known_results) -> won't work due to list index out of range"
   ]
  },
  {
   "cell_type": "markdown",
   "id": "77f0c9bb",
   "metadata": {},
   "source": [
    "## Better Dynamic Solution"
   ]
  },
  {
   "cell_type": "code",
   "execution_count": 40,
   "id": "9a85d343",
   "metadata": {},
   "outputs": [],
   "source": [
    "# we make known_result a dictionary with key set to target\n",
    "# and value set to minimum num of coins\n",
    "\n",
    "def rec_coin_dyn2(target, coins, known_results = None):\n",
    "    \n",
    "    # if known result is null then make one dict\n",
    "    if known_results == None:\n",
    "        known_results = {}\n",
    "    \n",
    "    # default output to target\n",
    "    min_coins = target\n",
    "    \n",
    "    # if the known results already contain the target then return it\n",
    "    if target in known_results:\n",
    "        return known_results[target]\n",
    "    \n",
    "    # base case - check to see if we have single coin match\n",
    "    elif target in coins:\n",
    "        \n",
    "        # store the target key and value to the dict\n",
    "        known_results[target] = 1\n",
    "        return 1\n",
    "    \n",
    "    else:\n",
    "        \n",
    "        # make sure the target is greater than the minimum of coin value\n",
    "        if target > min(coins):\n",
    "            \n",
    "            # for every coin value that is <= target\n",
    "            for i in [c for c in coins if c <= target]:\n",
    "                \n",
    "                # add a coin count to the recursive call with a new target, and\n",
    "                # the new target is the current target subtracted by the current coin value\n",
    "                num_coins = 1 + rec_coin_dyn2(target - i, coins, known_results)\n",
    "                \n",
    "                #print('num_coins=', num_coins, ', min_coins= ', min_coins)\n",
    "                \n",
    "                if num_coins < min_coins:\n",
    "                    \n",
    "                    # reset minimum if we have a new minimum\n",
    "                    min_coins = num_coins\n",
    "                    \n",
    "                    # store the new target key and value with the new minimum to the dict\n",
    "                    known_results[target] = min_coins\n",
    "        else:\n",
    "            print('Cannot be done!')\n",
    "            \n",
    "    return min_coins"
   ]
  },
  {
   "cell_type": "code",
   "execution_count": 41,
   "id": "cfe59d90",
   "metadata": {},
   "outputs": [
    {
     "data": {
      "text/plain": [
       "6"
      ]
     },
     "execution_count": 41,
     "metadata": {},
     "output_type": "execute_result"
    }
   ],
   "source": [
    "rec_coin_dyn2(63, [1, 5, 10, 25])"
   ]
  },
  {
   "cell_type": "code",
   "execution_count": null,
   "id": "cae38331",
   "metadata": {},
   "outputs": [],
   "source": []
  }
 ],
 "metadata": {
  "kernelspec": {
   "display_name": "Python 3 (ipykernel)",
   "language": "python",
   "name": "python3"
  },
  "language_info": {
   "codemirror_mode": {
    "name": "ipython",
    "version": 3
   },
   "file_extension": ".py",
   "mimetype": "text/x-python",
   "name": "python",
   "nbconvert_exporter": "python",
   "pygments_lexer": "ipython3",
   "version": "3.9.7"
  }
 },
 "nbformat": 4,
 "nbformat_minor": 5
}
