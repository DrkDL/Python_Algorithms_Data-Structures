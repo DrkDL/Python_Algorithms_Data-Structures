{
 "cells": [
  {
   "cell_type": "code",
   "execution_count": 1,
   "id": "309053cb",
   "metadata": {},
   "outputs": [],
   "source": [
    "# itertools library - functions creating iterators for efficient looping\n",
    "\n",
    "# Enumerate() method adds a counter to an iterable and returns \n",
    "# it in a form of enumerating object. This enumerated object can \n",
    "# then be used directly for loops or converted into a list of tuples \n",
    "# using the list() method.\n",
    "\n",
    "# enumerate(iterable, start=0)\n",
    "# Parameters:\n",
    "# Iterable: any object that supports iteration\n",
    "# Start: the index value from which the counter is \n",
    "# to be started, by default it is 0\n",
    "\n",
    "def permute(s):\n",
    "     \n",
    "    # create an output list variable\n",
    "    out = []\n",
    "    \n",
    "    # base case\n",
    "    # if there's only one letter then just return it\n",
    "    if len(s) == 1:\n",
    "        out = [s]\n",
    "    \n",
    "    else:\n",
    "        \n",
    "        # for every letteer in string\n",
    "        for i, let in enumerate(s):\n",
    "            \n",
    "            # for every permutation \n",
    "            for perm in permute(s[:i] + s[i+1:]):\n",
    "                \n",
    "                # Add it to output\n",
    "                out += [let + perm]\n",
    "    \n",
    "    return out"
   ]
  },
  {
   "cell_type": "code",
   "execution_count": 2,
   "id": "24c8489d",
   "metadata": {},
   "outputs": [
    {
     "data": {
      "text/plain": [
       "['abc', 'acb', 'bac', 'bca', 'cab', 'cba']"
      ]
     },
     "execution_count": 2,
     "metadata": {},
     "output_type": "execute_result"
    }
   ],
   "source": [
    "permute('abc')"
   ]
  },
  {
   "cell_type": "code",
   "execution_count": 3,
   "id": "09383919",
   "metadata": {},
   "outputs": [],
   "source": [
    "# Explanation"
   ]
  },
  {
   "cell_type": "code",
   "execution_count": 25,
   "id": "f47e39a3",
   "metadata": {},
   "outputs": [],
   "source": [
    "\n",
    "def permute_exp(s):\n",
    "     \n",
    "    # create an output list variable\n",
    "    out = []\n",
    "    \n",
    "    # base case\n",
    "    # if there's only one letter then just return it\n",
    "    if len(s) == 1:\n",
    "        out = [s]\n",
    "    \n",
    "    else:\n",
    "        \n",
    "        # for every letter in string\n",
    "        for i, let in enumerate(s):\n",
    "            \n",
    "            # for every permutation \n",
    "            for perm in permute_exp(s[:i] + s[i+1:]):\n",
    "                \n",
    "                print('current letter is: ', let)\n",
    "                print('perm is', perm)\n",
    "                                \n",
    "                # Add it to output\n",
    "                out += [let + perm]\n",
    "                \n",
    "                print('ouput: ', out)\n",
    "            \n",
    "    return out"
   ]
  },
  {
   "cell_type": "code",
   "execution_count": 26,
   "id": "495fefa8",
   "metadata": {
    "scrolled": true
   },
   "outputs": [
    {
     "name": "stdout",
     "output_type": "stream",
     "text": [
      "current letter is:  a\n",
      "perm is b\n",
      "ouput:  ['ab']\n",
      "current letter is:  b\n",
      "perm is a\n",
      "ouput:  ['ab', 'ba']\n"
     ]
    },
    {
     "data": {
      "text/plain": [
       "['ab', 'ba']"
      ]
     },
     "execution_count": 26,
     "metadata": {},
     "output_type": "execute_result"
    }
   ],
   "source": [
    "permute_exp('ab')"
   ]
  },
  {
   "cell_type": "code",
   "execution_count": 27,
   "id": "37bf8a25",
   "metadata": {},
   "outputs": [
    {
     "name": "stdout",
     "output_type": "stream",
     "text": [
      "current letter is:  b\n",
      "perm is c\n",
      "ouput:  ['bc']\n",
      "current letter is:  c\n",
      "perm is b\n",
      "ouput:  ['bc', 'cb']\n",
      "current letter is:  a\n",
      "perm is bc\n",
      "ouput:  ['abc']\n",
      "current letter is:  a\n",
      "perm is cb\n",
      "ouput:  ['abc', 'acb']\n",
      "current letter is:  a\n",
      "perm is c\n",
      "ouput:  ['ac']\n",
      "current letter is:  c\n",
      "perm is a\n",
      "ouput:  ['ac', 'ca']\n",
      "current letter is:  b\n",
      "perm is ac\n",
      "ouput:  ['abc', 'acb', 'bac']\n",
      "current letter is:  b\n",
      "perm is ca\n",
      "ouput:  ['abc', 'acb', 'bac', 'bca']\n",
      "current letter is:  a\n",
      "perm is b\n",
      "ouput:  ['ab']\n",
      "current letter is:  b\n",
      "perm is a\n",
      "ouput:  ['ab', 'ba']\n",
      "current letter is:  c\n",
      "perm is ab\n",
      "ouput:  ['abc', 'acb', 'bac', 'bca', 'cab']\n",
      "current letter is:  c\n",
      "perm is ba\n",
      "ouput:  ['abc', 'acb', 'bac', 'bca', 'cab', 'cba']\n"
     ]
    },
    {
     "data": {
      "text/plain": [
       "['abc', 'acb', 'bac', 'bca', 'cab', 'cba']"
      ]
     },
     "execution_count": 27,
     "metadata": {},
     "output_type": "execute_result"
    }
   ],
   "source": [
    "permute_exp('abc')"
   ]
  },
  {
   "cell_type": "code",
   "execution_count": null,
   "id": "4939fa8e",
   "metadata": {},
   "outputs": [],
   "source": []
  }
 ],
 "metadata": {
  "kernelspec": {
   "display_name": "Python 3 (ipykernel)",
   "language": "python",
   "name": "python3"
  },
  "language_info": {
   "codemirror_mode": {
    "name": "ipython",
    "version": 3
   },
   "file_extension": ".py",
   "mimetype": "text/x-python",
   "name": "python",
   "nbconvert_exporter": "python",
   "pygments_lexer": "ipython3",
   "version": "3.9.7"
  }
 },
 "nbformat": 4,
 "nbformat_minor": 5
}
