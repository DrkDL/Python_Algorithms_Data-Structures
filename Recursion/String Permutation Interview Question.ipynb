{
 "cells": [
  {
   "cell_type": "code",
   "execution_count": 21,
   "id": "309053cb",
   "metadata": {},
   "outputs": [],
   "source": [
    "# Enumerate() method adds a counter to an iterable and returns \n",
    "# it in a form of enumerating object. This enumerated object can \n",
    "# then be used directly for loops or converted into a list of tuples \n",
    "# using the list() method.\n",
    "\n",
    "# enumerate(iterable, start=0)\n",
    "# Parameters:\n",
    "# Iterable: any object that supports iteration\n",
    "# Start: the index value from which the counter is \n",
    "# to be started, by default it is 0\n",
    "\n",
    "def permute(s):\n",
    "     \n",
    "    # create an output list variable\n",
    "    out = []\n",
    "    \n",
    "    # base case\n",
    "    # if there's only one letter then just return it\n",
    "    if len(s) == 1:\n",
    "        out = [s]\n",
    "    \n",
    "    else:\n",
    "        \n",
    "        # for every letteer in string\n",
    "        for i, let in enumerate(s):\n",
    "            \n",
    "            # for every permutation \n",
    "            for perm in permute(s[:i] + s[i+1:]):\n",
    "                \n",
    "                # Add it to output\n",
    "                out += [let + perm]\n",
    "    \n",
    "    return out"
   ]
  },
  {
   "cell_type": "code",
   "execution_count": 22,
   "id": "24c8489d",
   "metadata": {},
   "outputs": [
    {
     "data": {
      "text/plain": [
       "['abc', 'acb', 'bac', 'bca', 'cab', 'cba']"
      ]
     },
     "execution_count": 22,
     "metadata": {},
     "output_type": "execute_result"
    }
   ],
   "source": [
    "permute('abc')"
   ]
  },
  {
   "cell_type": "code",
   "execution_count": 23,
   "id": "09383919",
   "metadata": {},
   "outputs": [],
   "source": [
    "# Explanation"
   ]
  },
  {
   "cell_type": "code",
   "execution_count": 26,
   "id": "f47e39a3",
   "metadata": {},
   "outputs": [],
   "source": [
    "\n",
    "def permute_exp(s):\n",
    "     \n",
    "    # create an output list variable\n",
    "    out = []\n",
    "    \n",
    "    # base case\n",
    "    # if there's only one letter then just return it\n",
    "    if len(s) == 1:\n",
    "        out = [s]\n",
    "    \n",
    "    else:\n",
    "        \n",
    "        # for every letter in string\n",
    "        for i, let in enumerate(s):\n",
    "            \n",
    "            # for every permutation \n",
    "            for perm in permute(s[:i] + s[i+1:]):\n",
    "                \n",
    "                print('Start: ', i, '. ')\n",
    "                print('current letter is: ', let)\n",
    "                print('perm is', perm)\n",
    "                                \n",
    "                # Add it to output\n",
    "                out += [let + perm]\n",
    "                \n",
    "                print('End: ', i, '. ', out)\n",
    "    \n",
    "    return out"
   ]
  },
  {
   "cell_type": "code",
   "execution_count": 27,
   "id": "495fefa8",
   "metadata": {
    "scrolled": true
   },
   "outputs": [
    {
     "name": "stdout",
     "output_type": "stream",
     "text": [
      "Start:  0 . \n",
      "current letter is:  a\n",
      "perm is bc\n",
      "End:  0 .  ['abc']\n",
      "Start:  0 . \n",
      "current letter is:  a\n",
      "perm is cb\n",
      "End:  0 .  ['abc', 'acb']\n",
      "Start:  1 . \n",
      "current letter is:  b\n",
      "perm is ac\n",
      "End:  1 .  ['abc', 'acb', 'bac']\n",
      "Start:  1 . \n",
      "current letter is:  b\n",
      "perm is ca\n",
      "End:  1 .  ['abc', 'acb', 'bac', 'bca']\n",
      "Start:  2 . \n",
      "current letter is:  c\n",
      "perm is ab\n",
      "End:  2 .  ['abc', 'acb', 'bac', 'bca', 'cab']\n",
      "Start:  2 . \n",
      "current letter is:  c\n",
      "perm is ba\n",
      "End:  2 .  ['abc', 'acb', 'bac', 'bca', 'cab', 'cba']\n"
     ]
    },
    {
     "data": {
      "text/plain": [
       "['abc', 'acb', 'bac', 'bca', 'cab', 'cba']"
      ]
     },
     "execution_count": 27,
     "metadata": {},
     "output_type": "execute_result"
    }
   ],
   "source": [
    "permute_exp('abc')"
   ]
  },
  {
   "cell_type": "code",
   "execution_count": null,
   "id": "37bf8a25",
   "metadata": {},
   "outputs": [],
   "source": []
  }
 ],
 "metadata": {
  "kernelspec": {
   "display_name": "Python 3 (ipykernel)",
   "language": "python",
   "name": "python3"
  },
  "language_info": {
   "codemirror_mode": {
    "name": "ipython",
    "version": 3
   },
   "file_extension": ".py",
   "mimetype": "text/x-python",
   "name": "python",
   "nbconvert_exporter": "python",
   "pygments_lexer": "ipython3",
   "version": "3.9.7"
  }
 },
 "nbformat": 4,
 "nbformat_minor": 5
}
