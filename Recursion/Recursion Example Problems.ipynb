{
 "cells": [
  {
   "cell_type": "markdown",
   "id": "fb077b80",
   "metadata": {},
   "source": [
    "# Problem 1\n",
    "\n",
    "### Write a recursive function which takes an integer and computes the cumulative sum of 0 to that integer\n",
    "\n",
    "### For example, if n=4 , return 4+3+2+1+0, which is 10."
   ]
  },
  {
   "cell_type": "code",
   "execution_count": 3,
   "id": "a700e8d2",
   "metadata": {},
   "outputs": [],
   "source": [
    "def rec_sum(n):\n",
    "    \n",
    "    # base case\n",
    "    if n == 0:\n",
    "        return 0\n",
    "    \n",
    "    # keep calling the function itself\n",
    "    else:\n",
    "        return n + rec_sum(n - 1)"
   ]
  },
  {
   "cell_type": "code",
   "execution_count": 4,
   "id": "b042e9b0",
   "metadata": {},
   "outputs": [
    {
     "data": {
      "text/plain": [
       "10"
      ]
     },
     "execution_count": 4,
     "metadata": {},
     "output_type": "execute_result"
    }
   ],
   "source": [
    "rec_sum(4)"
   ]
  },
  {
   "cell_type": "markdown",
   "id": "10ce49cf",
   "metadata": {},
   "source": [
    "# Problem 2\n",
    "\n",
    "### Given an integer, create a function which returns the sum of all the individual digits in that integer. For example: if n = 4321, return 4+3+2+1"
   ]
  },
  {
   "cell_type": "code",
   "execution_count": 5,
   "id": "8806686b",
   "metadata": {},
   "outputs": [],
   "source": [
    "def sum_func(n):\n",
    "    \n",
    "    # base case\n",
    "    if len(str(n)) == 1: # cast to string and take the length\n",
    "    # or use if n < 10: will work too\n",
    "        return n\n",
    "    \n",
    "    else:\n",
    "        # strip another digit\n",
    "        # modulus% will return the remainder\n",
    "        # floor division// will return the quotient in whole number without remainder\n",
    "        return n % 10 + sum_func(n//10)"
   ]
  },
  {
   "cell_type": "code",
   "execution_count": 10,
   "id": "d1edbe03",
   "metadata": {},
   "outputs": [
    {
     "data": {
      "text/plain": [
       "10"
      ]
     },
     "execution_count": 10,
     "metadata": {},
     "output_type": "execute_result"
    }
   ],
   "source": [
    "sum_func(4321)"
   ]
  },
  {
   "cell_type": "markdown",
   "id": "6064e16f",
   "metadata": {},
   "source": [
    "# Problem 3\n",
    "\n",
    "### Create a function called word_split() which takes in a string phrase and a set list_of_words. The function will then determine if it is possible to split the string in a way in which words can be made from the list of words. You can assume the phrase will only contain words found in the dictionary if it is completely splittable."
   ]
  },
  {
   "cell_type": "code",
   "execution_count": 11,
   "id": "9b3100ad",
   "metadata": {},
   "outputs": [],
   "source": [
    "def word_split(phrase, list_of_words, output = None):\n",
    "    \n",
    "    # note: there is no base case\n",
    "    \n",
    "    # check to see if any output has been initiated\n",
    "    # if you default outpu=[], it would be overwritten for every recursion\n",
    "    if output is None:\n",
    "        output = []\n",
    "        \n",
    "    # for every word in list\n",
    "    for word in list_of_words:\n",
    "        \n",
    "        # if the current phrase begins with the word, we have a split point\n",
    "        # The startswith() method returns True if the string starts with the \n",
    "        # specified value, otherwise False.\n",
    "        # Syntax: string.startswith(value, start, end) --> start and end are index\n",
    "        if phrase.startswith(word):\n",
    "            \n",
    "            # add the word to the output\n",
    "            output.append(word)\n",
    "            \n",
    "            # recursively call the split function on the remaining portion of the phrase\n",
    "            # which is phrase[len(word):]\n",
    "            # remember to pass along the output and list of words\n",
    "            return word_split(phrase[len(word):], list_of_words, output)\n",
    "        \n",
    "    # finally return output if no phrase.startswith(word) returns True\n",
    "    return output"
   ]
  },
  {
   "cell_type": "code",
   "execution_count": 12,
   "id": "de1b39e1",
   "metadata": {},
   "outputs": [
    {
     "data": {
      "text/plain": [
       "['the', 'man', 'ran']"
      ]
     },
     "execution_count": 12,
     "metadata": {},
     "output_type": "execute_result"
    }
   ],
   "source": [
    "word_split('themanran',['the','ran','man'])"
   ]
  },
  {
   "cell_type": "code",
   "execution_count": 13,
   "id": "1edbb479",
   "metadata": {},
   "outputs": [
    {
     "data": {
      "text/plain": [
       "['i', 'love', 'dogs', 'John']"
      ]
     },
     "execution_count": 13,
     "metadata": {},
     "output_type": "execute_result"
    }
   ],
   "source": [
    "word_split('ilovedogsJohn',['i','am','a','dogs','lover','love','John'])"
   ]
  },
  {
   "cell_type": "code",
   "execution_count": 14,
   "id": "7ee2aeac",
   "metadata": {},
   "outputs": [
    {
     "data": {
      "text/plain": [
       "[]"
      ]
     },
     "execution_count": 14,
     "metadata": {},
     "output_type": "execute_result"
    }
   ],
   "source": [
    "word_split('themanran',['clown','ran','man'])"
   ]
  },
  {
   "cell_type": "markdown",
   "id": "eac27624",
   "metadata": {},
   "source": [
    "## None recursion method - Interation"
   ]
  },
  {
   "cell_type": "code",
   "execution_count": 20,
   "id": "5b79f02f",
   "metadata": {},
   "outputs": [],
   "source": [
    "#Function to split string if sliced string is present in words list\n",
    "def word_split2(s, words):\n",
    "    \n",
    "    word_list = []\n",
    "    i = j = 0\n",
    " \n",
    "    #Traversing through each character\n",
    "    for i in range(len(s)):\n",
    "        for j in range(len(s)):\n",
    " \n",
    "            #Making sure reverse slice is not done\n",
    "            if j <= i:\n",
    "                pass\n",
    " \n",
    "            if s[i:j+1] in words:\n",
    "                word_list.append(s[i:j+1])\n",
    " \n",
    "    if len(word_list) == 0:\n",
    "        return False\n",
    " \n",
    "    else:\n",
    "        return word_list"
   ]
  },
  {
   "cell_type": "code",
   "execution_count": 21,
   "id": "74de93b0",
   "metadata": {},
   "outputs": [
    {
     "data": {
      "text/plain": [
       "['the', 'man', 'ran']"
      ]
     },
     "execution_count": 21,
     "metadata": {},
     "output_type": "execute_result"
    }
   ],
   "source": [
    "word_split2('themanran',['the','ran','man'])"
   ]
  },
  {
   "cell_type": "code",
   "execution_count": 22,
   "id": "7b326a37",
   "metadata": {},
   "outputs": [
    {
     "data": {
      "text/plain": [
       "['i', 'love', 'dogs', 'John']"
      ]
     },
     "execution_count": 22,
     "metadata": {},
     "output_type": "execute_result"
    }
   ],
   "source": [
    "word_split('ilovedogsJohn',['i','am','a','dogs','lover','love','John'])"
   ]
  },
  {
   "cell_type": "code",
   "execution_count": 23,
   "id": "cfbaeead",
   "metadata": {},
   "outputs": [
    {
     "data": {
      "text/plain": [
       "['man', 'ran']"
      ]
     },
     "execution_count": 23,
     "metadata": {},
     "output_type": "execute_result"
    }
   ],
   "source": [
    "word_split('themanran',['clown','ran','man'])"
   ]
  },
  {
   "cell_type": "code",
   "execution_count": null,
   "id": "42e25d59",
   "metadata": {},
   "outputs": [],
   "source": []
  }
 ],
 "metadata": {
  "kernelspec": {
   "display_name": "Python 3 (ipykernel)",
   "language": "python",
   "name": "python3"
  },
  "language_info": {
   "codemirror_mode": {
    "name": "ipython",
    "version": 3
   },
   "file_extension": ".py",
   "mimetype": "text/x-python",
   "name": "python",
   "nbconvert_exporter": "python",
   "pygments_lexer": "ipython3",
   "version": "3.9.7"
  }
 },
 "nbformat": 4,
 "nbformat_minor": 5
}
