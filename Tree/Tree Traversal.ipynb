{
 "cells": [
  {
   "cell_type": "markdown",
   "id": "00ce7108",
   "metadata": {},
   "source": [
    "# Tree Traversal"
   ]
  },
  {
   "cell_type": "code",
   "execution_count": 2,
   "id": "702efb0d",
   "metadata": {},
   "outputs": [],
   "source": [
    "class BinaryTree(object):\n",
    "    \n",
    "    def __init__(self, rootObj):\n",
    "        \n",
    "        # create a key value for the root\n",
    "        self.key = rootObj\n",
    "        # create two null children left and right leaves\n",
    "        self.leftChild = None\n",
    "        self.rightChild = None\n",
    "    \n",
    "    def insertLeft(self, newNode):\n",
    "        \n",
    "        # if current left child is a leaf, just add a new branch\n",
    "        if self.leftChild == None:\n",
    "            self.leftChild = BinaryTree(newNode)\n",
    "        \n",
    "        # otherwise, push the subtree down to the lower branch\n",
    "        else:\n",
    "            # create a new subtree and store into t\n",
    "            t = BinaryTree(newNode)\n",
    "            # the left node of this subtree will be the current left subtree\n",
    "            t.leftChild = self.leftChild\n",
    "            # the current left subtree will be the new subtree of t\n",
    "            self.leftChild = t\n",
    "            \n",
    "    def insertRight(self, newNode):\n",
    "        \n",
    "        # if current right child is a leaf, just add a new branch\n",
    "        if self.rightChild == None:\n",
    "            self.rightChild = BinaryTree(newNode)\n",
    "        \n",
    "        # otherwise, push the subtree down to the lower branch\n",
    "        else:\n",
    "            # create a new subtree and store into t\n",
    "            t = BinaryTree(newNode)\n",
    "            # the right node of this subtree will be the current right subtree\n",
    "            t.rightChild = self.rightChild\n",
    "            # the current right subtree will be the new subtree of t\n",
    "            # do this overwriting step last because self.rightChild's original content was needed earlier\n",
    "            self.rightChild = t\n",
    "    \n",
    "    # create methods that we can access things such as left/right children and root nodes\n",
    "    def getRightChild(self):\n",
    "        return self.rightChild\n",
    "    \n",
    "    def getLeftChild(self):\n",
    "        return self.leftChild\n",
    "    \n",
    "    def setRootVal(self, obj):\n",
    "        self.key = obj\n",
    "        \n",
    "    def getRootVal(self):\n",
    "        return self.key"
   ]
  },
  {
   "cell_type": "code",
   "execution_count": null,
   "id": "f3fbd3ab",
   "metadata": {},
   "outputs": [],
   "source": []
  }
 ],
 "metadata": {
  "kernelspec": {
   "display_name": "Python 3 (ipykernel)",
   "language": "python",
   "name": "python3"
  },
  "language_info": {
   "codemirror_mode": {
    "name": "ipython",
    "version": 3
   },
   "file_extension": ".py",
   "mimetype": "text/x-python",
   "name": "python",
   "nbconvert_exporter": "python",
   "pygments_lexer": "ipython3",
   "version": "3.9.7"
  }
 },
 "nbformat": 4,
 "nbformat_minor": 5
}
