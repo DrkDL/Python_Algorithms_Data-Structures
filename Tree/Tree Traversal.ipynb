{
 "cells": [
  {
   "cell_type": "markdown",
   "id": "e25f96d9",
   "metadata": {},
   "source": [
    "# Tree Traversal"
   ]
  },
  {
   "attachments": {},
   "cell_type": "markdown",
   "id": "da23d124",
   "metadata": {},
   "source": [
    "## Preorder\n",
    "### In a preorder traversal, we visit the root node first, then recursively do a preorder traversal of the left subtree, followed by a recursive preorder traversal of the right subtree.\n",
    "\n",
    "## Inorder\n",
    "### In an inorder traversal, we recursively do an inorder traversal on the left subtree, visit the root node, and finally do a recursive inorder traversal of the right subtree.\n",
    "\n",
    "## Postorder\n",
    "### In a postorder traversal, we recursively do a postorder traversal of the left subtree and the right subtree followed by a visit to the root node.\n"
   ]
  },
  {
   "cell_type": "code",
   "execution_count": 2,
   "id": "296e301d",
   "metadata": {},
   "outputs": [],
   "source": [
    "class BinaryTree(object):\n",
    "    \n",
    "    def __init__(self, rootObj):\n",
    "        \n",
    "        # create a key value for the root\n",
    "        self.key = rootObj\n",
    "        # create two null children left and right leaves\n",
    "        self.leftChild = None\n",
    "        self.rightChild = None\n",
    "    \n",
    "    def insertLeft(self, newNode):\n",
    "        \n",
    "        # if current left child is a leaf, just add a new branch\n",
    "        if self.leftChild == None:\n",
    "            self.leftChild = BinaryTree(newNode)\n",
    "        \n",
    "        # otherwise, push the subtree down to the lower branch\n",
    "        else:\n",
    "            # create a new subtree and store into t\n",
    "            t = BinaryTree(newNode)\n",
    "            # the left node of this subtree will be the current left subtree\n",
    "            t.leftChild = self.leftChild\n",
    "            # the current left subtree will be the new subtree of t\n",
    "            self.leftChild = t\n",
    "            \n",
    "    def insertRight(self, newNode):\n",
    "        \n",
    "        # if current right child is a leaf, just add a new branch\n",
    "        if self.rightChild == None:\n",
    "            self.rightChild = BinaryTree(newNode)\n",
    "        \n",
    "        # otherwise, push the subtree down to the lower branch\n",
    "        else:\n",
    "            # create a new subtree and store into t\n",
    "            t = BinaryTree(newNode)\n",
    "            # the right node of this subtree will be the current right subtree\n",
    "            t.rightChild = self.rightChild\n",
    "            # the current right subtree will be the new subtree of t\n",
    "            # do this overwriting step last because self.rightChild's original content was needed earlier\n",
    "            self.rightChild = t\n",
    "    \n",
    "    # create methods that we can access things such as left/right children and root nodes\n",
    "    def getRightChild(self):\n",
    "        return self.rightChild\n",
    "    \n",
    "    def getLeftChild(self):\n",
    "        return self.leftChild\n",
    "    \n",
    "    def setRootVal(self, obj):\n",
    "        self.key = obj\n",
    "        \n",
    "    def getRootVal(self):\n",
    "        return self.key"
   ]
  },
  {
   "cell_type": "code",
   "execution_count": 23,
   "id": "2e413e4d",
   "metadata": {},
   "outputs": [],
   "source": [
    "# Preorder function\n",
    "def preorder(tree):\n",
    "    if tree: # or tree != None:\n",
    "        print(tree.getRootVal())\n",
    "        preorder(tree.getLeftChild())\n",
    "        preorder(tree.getRightChild())"
   ]
  },
  {
   "cell_type": "code",
   "execution_count": 24,
   "id": "d4091d79",
   "metadata": {},
   "outputs": [],
   "source": [
    "# Postorder function\n",
    "def postorder(tree):\n",
    "    if tree:\n",
    "        postorder(tree.getLeftChild())\n",
    "        postorder(tree.getRightChild())\n",
    "        print(tree.getRootVal())"
   ]
  },
  {
   "cell_type": "code",
   "execution_count": 25,
   "id": "817fecb5",
   "metadata": {},
   "outputs": [],
   "source": [
    "# Inorder function\n",
    "def inorder(tree):\n",
    "    if tree:\n",
    "        inorder(tree.getLeftChild())\n",
    "        print(tree.getRootVal())\n",
    "        inorder(tree.getRightChild())"
   ]
  },
  {
   "cell_type": "code",
   "execution_count": 26,
   "id": "ba5913f0",
   "metadata": {},
   "outputs": [],
   "source": [
    "root = BinaryTree(0)"
   ]
  },
  {
   "cell_type": "code",
   "execution_count": 27,
   "id": "62383715",
   "metadata": {},
   "outputs": [
    {
     "data": {
      "text/plain": [
       "0"
      ]
     },
     "execution_count": 27,
     "metadata": {},
     "output_type": "execute_result"
    }
   ],
   "source": [
    "root.getRootVal()"
   ]
  },
  {
   "cell_type": "code",
   "execution_count": 28,
   "id": "9f26ff9d",
   "metadata": {},
   "outputs": [],
   "source": [
    "root.insertLeft(4)\n",
    "root.insertLeft(3)\n",
    "root.insertLeft(2)\n",
    "root.insertLeft(1)"
   ]
  },
  {
   "cell_type": "code",
   "execution_count": 29,
   "id": "6522f62f",
   "metadata": {},
   "outputs": [
    {
     "name": "stdout",
     "output_type": "stream",
     "text": [
      "1\n",
      "2\n",
      "3\n",
      "4\n"
     ]
    }
   ],
   "source": [
    "print(root.getLeftChild().getRootVal())\n",
    "print(root.getLeftChild().getLeftChild().getRootVal())\n",
    "print(root.getLeftChild().getLeftChild().getLeftChild().getRootVal())\n",
    "print(root.getLeftChild().getLeftChild().getLeftChild().getLeftChild().getRootVal())"
   ]
  },
  {
   "cell_type": "code",
   "execution_count": 30,
   "id": "cdacab35",
   "metadata": {},
   "outputs": [],
   "source": [
    "root.insertRight(-4)\n",
    "root.insertRight(-3)\n",
    "root.insertRight(-2)\n",
    "root.insertRight(-1)"
   ]
  },
  {
   "cell_type": "code",
   "execution_count": 31,
   "id": "91cc9b02",
   "metadata": {},
   "outputs": [
    {
     "name": "stdout",
     "output_type": "stream",
     "text": [
      "-1\n",
      "-2\n",
      "-3\n",
      "-4\n"
     ]
    }
   ],
   "source": [
    "print(root.getRightChild().getRootVal())\n",
    "print(root.getRightChild().getRightChild().getRootVal())\n",
    "print(root.getRightChild().getRightChild().getRightChild().getRootVal())\n",
    "print(root.getRightChild().getRightChild().getRightChild().getRightChild().getRootVal())"
   ]
  },
  {
   "cell_type": "code",
   "execution_count": 32,
   "id": "f5c2dcea",
   "metadata": {},
   "outputs": [
    {
     "name": "stdout",
     "output_type": "stream",
     "text": [
      "0\n",
      "1\n",
      "2\n",
      "3\n",
      "4\n",
      "-1\n",
      "-2\n",
      "-3\n",
      "-4\n"
     ]
    }
   ],
   "source": [
    "preorder(root)"
   ]
  },
  {
   "cell_type": "code",
   "execution_count": 33,
   "id": "8ada439a",
   "metadata": {},
   "outputs": [
    {
     "name": "stdout",
     "output_type": "stream",
     "text": [
      "4\n",
      "3\n",
      "2\n",
      "1\n",
      "-4\n",
      "-3\n",
      "-2\n",
      "-1\n",
      "0\n"
     ]
    }
   ],
   "source": [
    "postorder(root)"
   ]
  },
  {
   "cell_type": "code",
   "execution_count": 34,
   "id": "9d65513d",
   "metadata": {},
   "outputs": [
    {
     "name": "stdout",
     "output_type": "stream",
     "text": [
      "4\n",
      "3\n",
      "2\n",
      "1\n",
      "0\n",
      "-1\n",
      "-2\n",
      "-3\n",
      "-4\n"
     ]
    }
   ],
   "source": [
    "inorder(root)"
   ]
  },
  {
   "cell_type": "code",
   "execution_count": 35,
   "id": "2178dbf2",
   "metadata": {},
   "outputs": [],
   "source": [
    "root.getLeftChild().insertRight(1.1)\n",
    "root.getLeftChild().getLeftChild().insertRight(2.1)\n",
    "root.getRightChild().insertLeft(-1.1)\n",
    "root.getRightChild().getRightChild().insertLeft(-2.1)"
   ]
  },
  {
   "cell_type": "code",
   "execution_count": 36,
   "id": "cd5f64cd",
   "metadata": {},
   "outputs": [
    {
     "name": "stdout",
     "output_type": "stream",
     "text": [
      "0\n",
      "1\n",
      "2\n",
      "3\n",
      "4\n",
      "2.1\n",
      "1.1\n",
      "-1\n",
      "-1.1\n",
      "-2\n",
      "-2.1\n",
      "-3\n",
      "-4\n"
     ]
    }
   ],
   "source": [
    "preorder(root)"
   ]
  },
  {
   "cell_type": "code",
   "execution_count": 37,
   "id": "081d1be1",
   "metadata": {},
   "outputs": [
    {
     "name": "stdout",
     "output_type": "stream",
     "text": [
      "4\n",
      "3\n",
      "2.1\n",
      "2\n",
      "1.1\n",
      "1\n",
      "-1.1\n",
      "-2.1\n",
      "-4\n",
      "-3\n",
      "-2\n",
      "-1\n",
      "0\n"
     ]
    }
   ],
   "source": [
    "postorder(root)"
   ]
  },
  {
   "cell_type": "code",
   "execution_count": 38,
   "id": "e4f0e0ff",
   "metadata": {},
   "outputs": [
    {
     "name": "stdout",
     "output_type": "stream",
     "text": [
      "4\n",
      "3\n",
      "2\n",
      "2.1\n",
      "1\n",
      "1.1\n",
      "0\n",
      "-1.1\n",
      "-1\n",
      "-2.1\n",
      "-2\n",
      "-3\n",
      "-4\n"
     ]
    }
   ],
   "source": [
    "inorder(root)"
   ]
  },
  {
   "cell_type": "code",
   "execution_count": null,
   "id": "cb98b8ed",
   "metadata": {},
   "outputs": [],
   "source": []
  }
 ],
 "metadata": {
  "kernelspec": {
   "display_name": "Python 3 (ipykernel)",
   "language": "python",
   "name": "python3"
  },
  "language_info": {
   "codemirror_mode": {
    "name": "ipython",
    "version": 3
   },
   "file_extension": ".py",
   "mimetype": "text/x-python",
   "name": "python",
   "nbconvert_exporter": "python",
   "pygments_lexer": "ipython3",
   "version": "3.9.7"
  }
 },
 "nbformat": 4,
 "nbformat_minor": 5
}
