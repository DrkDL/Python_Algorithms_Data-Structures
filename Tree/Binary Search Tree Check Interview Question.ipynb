{
 "cells": [
  {
   "cell_type": "markdown",
   "metadata": {},
   "source": [
    "# Binary Search Tree Check\n",
    "\n",
    "## Problem Statement\n",
    "Given a binary tree, check whether it’s a binary search tree or not.\n",
    "\n",
    "## Solution\n",
    "If a tree is a binary search tree, then traversing the tree inorder should lead to sorted order of the values in the tree. So, we can perform an inorder traversal and check whether the node values are sorted or not. \n",
    "Inorder traversal will find the left most child of the tree first and then make its way towards the right most child tree in order. Thus, this traversal method will find a node with the smallest key first and then towards the largest key node."
   ]
  },
  {
   "cell_type": "code",
   "execution_count": 34,
   "metadata": {},
   "outputs": [],
   "source": [
    "# solution: inorder tree traversal\n",
    "def inorder(tree):\n",
    "    if tree != None: # or if tree:\n",
    "        inorder(tree.getLeftChild())\n",
    "        tree_vals.append(tree.getRootVal())\n",
    "        inorder(tree.getRightChild())\n",
    "        \n",
    "def sort_check(tree_vals):\n",
    "    return tree_vals == sorted(tree_vals)"
   ]
  },
  {
   "cell_type": "code",
   "execution_count": 35,
   "metadata": {},
   "outputs": [],
   "source": [
    "# Create a BinaryTree class\n",
    "class BinaryTree(object):\n",
    "    \n",
    "    def __init__(self, rootObj):\n",
    "        \n",
    "        # create a key value for the root\n",
    "        self.key = rootObj\n",
    "        # create two null children left and right leaves\n",
    "        self.leftChild = None\n",
    "        self.rightChild = None\n",
    "    \n",
    "    def insertLeft(self, newNode):\n",
    "        \n",
    "        # if current left child is a leaf, just add a new branch\n",
    "        if self.leftChild == None:\n",
    "            self.leftChild = BinaryTree(newNode)\n",
    "        \n",
    "        # otherwise, push the subtree down to the lower branch\n",
    "        else:\n",
    "            # create a new subtree and store into t\n",
    "            t = BinaryTree(newNode)\n",
    "            # the left node of this subtree will be the current left subtree\n",
    "            t.leftChild = self.leftChild\n",
    "            # the current left subtree will be the new subtree of t\n",
    "            self.leftChild = t\n",
    "            \n",
    "    def insertRight(self, newNode):\n",
    "        \n",
    "        # if current right child is a leaf, just add a new branch\n",
    "        if self.rightChild == None:\n",
    "            self.rightChild = BinaryTree(newNode)\n",
    "        \n",
    "        # otherwise, push the subtree down to the lower branch\n",
    "        else:\n",
    "            # create a new subtree and store into t\n",
    "            t = BinaryTree(newNode)\n",
    "            # the right node of this subtree will be the current right subtree\n",
    "            t.rightChild = self.rightChild\n",
    "            # the current right subtree will be the new subtree of t\n",
    "            # do this overwriting step last because self.rightChild's original content was needed earlier\n",
    "            self.rightChild = t\n",
    "    \n",
    "    # create methods that we can access things such as left/right children and root nodes\n",
    "    def getRightChild(self):\n",
    "        return self.rightChild\n",
    "    \n",
    "    def getLeftChild(self):\n",
    "        return self.leftChild\n",
    "    \n",
    "    def setRootVal(self, obj):\n",
    "        self.key = obj\n",
    "        \n",
    "    def getRootVal(self):\n",
    "        return self.key"
   ]
  },
  {
   "cell_type": "code",
   "execution_count": 36,
   "metadata": {},
   "outputs": [],
   "source": [
    "# create an object of BinaryTree class\n",
    "root = BinaryTree(0)\n",
    "\n",
    "# insert some subtrees or nodes to the tree\\\n",
    "for i in range(4, 0, -1):\n",
    "    root.insertLeft(i)\n",
    "    root.insertRight(-i)\n",
    "root.getLeftChild().insertRight(1.1)\n",
    "root.getLeftChild().getLeftChild().insertRight(2.1)\n",
    "root.getRightChild().insertLeft(-1.1)\n",
    "root.getRightChild().getRightChild().insertLeft(-2.1)"
   ]
  },
  {
   "cell_type": "code",
   "execution_count": 37,
   "metadata": {},
   "outputs": [
    {
     "name": "stdout",
     "output_type": "stream",
     "text": [
      "False\n",
      "[4, 3, 2, 2.1, 1, 1.1, 0, -1.1, -1, -2.1, -2, -3, -4]\n"
     ]
    }
   ],
   "source": [
    "tree_vals = []\n",
    "\n",
    "inorder(root)\n",
    "print(sort_check(tree_vals))\n",
    "print(tree_vals)"
   ]
  },
  {
   "cell_type": "code",
   "execution_count": 48,
   "metadata": {},
   "outputs": [],
   "source": [
    "# create another object of BinaryTree class\n",
    "root2 = BinaryTree(0)\n",
    "\n",
    "# insert some subtrees or nodes to the tree\\\n",
    "for i in range(4, 0, -1):\n",
    "    root2.insertRight(i)\n",
    "    root2.insertLeft(-i)"
   ]
  },
  {
   "cell_type": "code",
   "execution_count": 50,
   "metadata": {},
   "outputs": [
    {
     "name": "stdout",
     "output_type": "stream",
     "text": [
      "True\n",
      "[-4, -3, -2, -1, 0, 1, 2, 3, 4]\n"
     ]
    }
   ],
   "source": [
    "tree_vals = []\n",
    "\n",
    "inorder(root2)\n",
    "print(sort_check(tree_vals))\n",
    "print(tree_vals)"
   ]
  },
  {
   "cell_type": "markdown",
   "metadata": {},
   "source": [
    "#### Another classic solution is to keep track of the minimum and maximum values a node can take. And at each node we will check whether its value is between the min and max values it’s allowed to take. The root can take any value between negative infinity and positive infinity. At any node, its left child should be smaller than or equal to its own value, and similarly the right child should be larger than or equal to. So during recursion, we send the current value as the new max to our left child and send the min as it is without changing. And to the right child, we send the current value as the new min and send the max without changing."
   ]
  },
  {
   "cell_type": "code",
   "execution_count": 2,
   "metadata": {},
   "outputs": [
    {
     "name": "stdout",
     "output_type": "stream",
     "text": [
      "True\n",
      "False\n"
     ]
    }
   ],
   "source": [
    "class Node:\n",
    "    def __init__(self, k, val):\n",
    "        self.key = k\n",
    "        self.value = val\n",
    "        self.left = None\n",
    "        self.right = None\n",
    "\n",
    "def tree_max(node):\n",
    "    if not node:\n",
    "        return float(\"-inf\") # negative infinity\n",
    "    maxleft  = tree_max(node.left)\n",
    "    maxright = tree_max(node.right)\n",
    "    return max(node.key, maxleft, maxright)\n",
    "\n",
    "def tree_min(node):\n",
    "    if not node:\n",
    "        return float(\"inf\") # positive infinity\n",
    "    minleft = tree_min(node.left)\n",
    "    minright = tree_min(node.right)\n",
    "    return min(node.key, minleft, minright)\n",
    "\n",
    "# verify every single node that meets the properties of a BST (left < curr < right)\n",
    "def verify(node):\n",
    "    if not node:\n",
    "        return True\n",
    "    if (tree_max(node.left) <= node.key <= tree_min(node.right) and\n",
    "        verify(node.left) and verify(node.right)):\n",
    "        return True\n",
    "    else:\n",
    "        return False\n",
    "\n",
    "root = Node(10, \"Hello\")\n",
    "root.left = Node(5, \"Five\")\n",
    "root.right = Node(30, \"Thirty\")\n",
    "\n",
    "print(verify(root)) # prints True, since this tree is valid\n",
    "\n",
    "root = Node(10, \"Ten\")\n",
    "root.right = Node(20, \"Twenty\")\n",
    "root.left = Node(5, \"Five\")\n",
    "root.left.right = Node(15, \"Fifteen\")\n",
    "\n",
    "print(verify(root)) # prints False, since 15 is to the left of 10"
   ]
  },
  {
   "cell_type": "code",
   "execution_count": null,
   "metadata": {},
   "outputs": [],
   "source": []
  }
 ],
 "metadata": {
  "interpreter": {
   "hash": "713550fe996ccd6bfca49754f8f301cea9aaf39cb14e388a1a9ffc2cf9eed65f"
  },
  "kernelspec": {
   "display_name": "Python 3.9.1 64-bit",
   "language": "python",
   "name": "python3"
  },
  "language_info": {
   "codemirror_mode": {
    "name": "ipython",
    "version": 3
   },
   "file_extension": ".py",
   "mimetype": "text/x-python",
   "name": "python",
   "nbconvert_exporter": "python",
   "pygments_lexer": "ipython3",
   "version": "3.9.1"
  },
  "orig_nbformat": 4
 },
 "nbformat": 4,
 "nbformat_minor": 2
}
