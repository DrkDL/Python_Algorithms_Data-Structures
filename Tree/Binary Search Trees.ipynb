{
 "cells": [
  {
   "cell_type": "markdown",
   "metadata": {},
   "source": [
    "## Binary Search Trees\n",
    "### A binary search tree relies on the property that keys that are less than the parent are found in the left subtree, and keys that are greater than the parent are found in the right subtree."
   ]
  },
  {
   "cell_type": "markdown",
   "metadata": {},
   "source": [
    "* To implement the binary search tree, we will use the nodes and references approach similar to the one we used to implement the linked list, and the expression tree. \n",
    "* However, because we must be able create and work with a binary search tree that is empty, our implementation will use two classes. \n",
    "* The first class we will call BinarySearchTree, and the second class we will call TreeNode. \n",
    "* The BinarySearchTree class has a reference to the TreeNode that is the root of the binary search tree. "
   ]
  },
  {
   "cell_type": "code",
   "execution_count": 97,
   "metadata": {},
   "outputs": [],
   "source": [
    "class TreeNode:\n",
    "\n",
    "    def __init__(self,key,val,left=None,right=None,parent=None):\n",
    "        # In a bare bones BST, a key is used to uniquely identify a particular node \n",
    "        # in the tree and the value is nothing but data associated with that node.\n",
    "        # A good analogy: A node is a container. The Value is what you put into that container, \n",
    "        # and the Key is how you mark the container so that you can retrieve it later.\n",
    "        self.key = key\n",
    "        self.payload = val\n",
    "        self.leftChild = left\n",
    "        self.rightChild = right\n",
    "        self.parent = parent\n",
    "\n",
    "    def hasLeftChild(self):\n",
    "        return self.leftChild\n",
    "\n",
    "    def hasRightChild(self):\n",
    "        return self.rightChild\n",
    "\n",
    "    def isLeftChild(self):\n",
    "        return self.parent and self.parent.leftChild == self\n",
    "\n",
    "    def isRightChild(self):\n",
    "        return self.parent and self.parent.rightChild == self\n",
    "\n",
    "    def isRoot(self):\n",
    "        return not self.parent\n",
    "\n",
    "    def isLeaf(self):\n",
    "        return not (self.rightChild or self.leftChild)\n",
    "\n",
    "    def hasAnyChildren(self):\n",
    "        return self.rightChild or self.leftChild\n",
    "\n",
    "    def hasBothChildren(self):\n",
    "        return self.rightChild and self.leftChild\n",
    "\n",
    "    def replaceNodeData(self,key,value,lc,rc):\n",
    "        self.key = key\n",
    "        self.payload = value\n",
    "        self.leftChild = lc\n",
    "        self.rightChild = rc\n",
    "\n",
    "        if self.hasLeftChild():\n",
    "            self.leftChild.parent = self\n",
    "            \n",
    "        if self.hasRightChild():\n",
    "            self.rightChild.parent = self\n",
    "\n",
    "    # using inorder traversal of BST\n",
    "    # the successor can be the smallest key on the right subtree\n",
    "    # or the largest key on the left subtree of the to-be-removed node\n",
    "    def findSuccessor(self):\n",
    "        \n",
    "        succ = None\n",
    "\n",
    "        # if it has right child then the succ is the smallest key in the right tree,\n",
    "        # becasue a child key greater than parent key goes to right, and vice versa.\n",
    "        if self.hasRightChild():\n",
    "            succ = self.rightChild.findMin()\n",
    "        \n",
    "        # if it only has left child\n",
    "        else:\n",
    "            # if it is not the root\n",
    "            if self.parent:\n",
    "                \n",
    "                # if this current node is a left child of its parent then it is a succ\n",
    "                # because a child key less than parent key goes to left, and vice versa.\n",
    "                if self.isLeftChild():\n",
    "                    succ = self.parent\n",
    "\n",
    "                # if this current node is the right child of its parent, and of course \n",
    "                # this node has no right child then the successor to this node is \n",
    "                # the successor of its parent excluding this node\n",
    "                else:\n",
    "                    self.parent.rightChild = None\n",
    "                    succ = self.parent.findSuccessor()\n",
    "                    self.parent.rightChild = self\n",
    "        return succ\n",
    "\n",
    "    # in BST properties, the key with minimum value is the leftmost child of the tree\n",
    "    def findMin(self):\n",
    "        \n",
    "        current = self\n",
    "        while current.hasLeftChild():\n",
    "            current = current.leftChild\n",
    "        return current\n",
    "    \n",
    "    # splice out after finding the successor\n",
    "    # meaning the nodes that are connecting to the \n",
    "    # succ node need to be spliced or connected back,\n",
    "    # after the succ node will be deleted where it orginal is.\n",
    "    def spliceOut(self):\n",
    "\n",
    "        # if the succ node has no children\n",
    "        # then we can directly delete the node\n",
    "        if self.isLeaf():\n",
    "\n",
    "            if self.isLeftChild():\n",
    "                self.parent.leftChild = None\n",
    "\n",
    "            else:\n",
    "                self.parent.rightChild = None\n",
    "\n",
    "        # if it has any children\n",
    "        else:\n",
    "            # and if it is a right child of its parent\n",
    "            if self.isRightChild():\n",
    "                self.parent.rightChild = self.rightChild\n",
    "                self.rightChild.parent = self.parent\n",
    "\n",
    "            # or if it is a left child of its parent\n",
    "            else:\n",
    "                self.parent.leftChild = self.rightChild\n",
    "                self.rightChild.parent = self.parent\n",
    "    \n",
    "    # it allows to use a for loop on it \n",
    "    # ex: for payload in myTree:\n",
    "    #       print(payload)\n",
    "    def __iter__(self):\n",
    "        \n",
    "        if self.leftChild:\n",
    "            yield from self.leftChild\n",
    "\n",
    "        yield self.payload\n",
    "\n",
    "        if self.rightChild:\n",
    "            yield from self.rightChild"
   ]
  },
  {
   "cell_type": "markdown",
   "metadata": {},
   "source": [
    "## Put Method\n",
    "### it will check to see if the tree already has a root. If there is not a root then put will create a new TreeNode and install it as the root of the tree.\n",
    "### If a root node is already in place then put calls the private, recursive, helper function put to search the tree according to the following algorithm…\n",
    "* Starting at the root of the tree, search the binary tree comparing the new key to the key in the current node.\n",
    "* If the new key is less than the current node, search the left subtree. If the new key is greater than the current node, search the right subtree.\n",
    "* When there is no left (or right) child to search, we have found the position in the tree where the new node should be installed.\n",
    "* To add a node to the tree, create a new TreeNode object and insert the object at the point discovered in the previous step.\n",
    "\n",
    "### Note: Insertion of a duplicate key is handled by replacing the old value of that key with the new one. The current method ignores this duplicate subkey scenario.\n",
    "\n",
    "## Get Method\n",
    "### Once the tree is constructed, the next task is to implement the retrieval of a value for a given key. \n",
    "### The get method is even easier than the put method because it simply searches the tree recursively until it gets to a non-matching leaf node or finds a matching key. \n",
    "### When a matching key is found, the value stored in the payload of the node is returned.\n",
    "\n",
    "## Deleting Nodes\n",
    "\n",
    "### The first task is to find the node to delete by searching the tree. \n",
    "### If the tree has more than one node we search using the _get method to find the TreeNode that needs to be removed.\n",
    "### If the tree only has a single node, that means we are removing the root of the tree, but we still must check to make sure the key of the root matches the key that is to be deleted. \n",
    "### In either case if the key is not found the del operator raises an error.\n",
    "### Once we’ve found the node containing the key we want to delete, there are three cases that we must consider:\n",
    "* The first case is straightforward. If the current node has no children all we need to do is delete the node and remove the reference to this node in the parent.\n",
    "* The second case is only slightly more complicated. If a node has only a single child, then we can simply promote the child to take the place of its parent.\n",
    "* The third case is the most difficult case to handle. If a node has two children, then it is unlikely that we can simply promote one of them to take the node’s place. We can, however, search the tree for a node that can be used to replace the one scheduled for deletion.\n",
    "    * What we need is a node that will preserve the binary search tree relationships for both of the existing left and right subtrees. \n",
    "    * The node that will do this is the node that has the next-largest key in the tree. We call this node the successor.\n",
    "    * The successor is guaranteed to have no more than one child, so we know how to remove it using the two cases for deletion that we have already implemented. \n",
    "    * Once the successor has been removed, we simply put it in the tree in place of the node to be deleted.\n",
    "    * Notice that we make use of the helper methods findSuccessor and findMin to find the successor. \n",
    "    * To remove the successor, we make use of the method spliceOut. \n",
    "    * The reason we use spliceOut is that it goes directly to the node we want to splice out and makes the right changes.\n"
   ]
  },
  {
   "cell_type": "code",
   "execution_count": 98,
   "metadata": {},
   "outputs": [],
   "source": [
    "class BinarySearchTree:\n",
    "\n",
    "    # init\n",
    "    def __init__(self):\n",
    "        self.root = None\n",
    "        self.size = 0\n",
    "\n",
    "    # it allows to .length() method\n",
    "    def length(self):\n",
    "        return self.size\n",
    "\n",
    "    # it allows to call the built in len() method\n",
    "    def __len__(self):\n",
    "        return self.size\n",
    "        #if self.root:\n",
    "            #yield from self.root\n",
    "    \n",
    "    # built-in method iteration that interates through every node\n",
    "    # it allows to use the square bracket method, ex: myTree[3], myTree[0]\n",
    "    def __iter__(self):\n",
    "        return self.root.__iter__()\n",
    "\n",
    "    # main method used to add key\n",
    "    # without _ is for code factoring or refactoring\n",
    "    def put(self,key,val): \n",
    "\n",
    "        if self.root:\n",
    "            self._put(key,val,self.root)\n",
    "\n",
    "        else:\n",
    "            self.root = TreeNode(key,val)\n",
    "\n",
    "        self.size = self.size + 1\n",
    "\n",
    "    # with _ is used as a helper function to do the heavy lifting\n",
    "    def _put(self,key,val,currentNode):\n",
    "\n",
    "        if key < currentNode.key:\n",
    "\n",
    "            if currentNode.hasLeftChild():\n",
    "                   self._put(key,val,currentNode.leftChild)\n",
    "\n",
    "            else:\n",
    "                   currentNode.leftChild = TreeNode(key,val,parent=currentNode)\n",
    "        else:\n",
    "\n",
    "            if currentNode.hasRightChild():\n",
    "                   self._put(key,val,currentNode.rightChild)\n",
    "\n",
    "            else:\n",
    "                   currentNode.rightChild = TreeNode(key,val,parent=currentNode)\n",
    "\n",
    "    # used to call the put method\n",
    "    def __setitem__(self,k,v):\n",
    "        self.put(k,v)\n",
    "    \n",
    "    # main method used to get key\n",
    "    # without _ is for code factoring or refactoring\n",
    "    def get(self,key):\n",
    "\n",
    "        if self.root:\n",
    "\n",
    "            res = self._get(key,self.root)\n",
    "\n",
    "            if res:\n",
    "                return res.payload\n",
    "\n",
    "            else:\n",
    "                return None\n",
    "\n",
    "        else:\n",
    "            return None\n",
    "\n",
    "    # with _ is used as a helper function to do the heavy lifting\n",
    "    def _get(self,key,currentNode):\n",
    "        \n",
    "        if not currentNode:\n",
    "            return None\n",
    "\n",
    "        elif currentNode.key == key:\n",
    "            return currentNode\n",
    "\n",
    "        elif key < currentNode.key:\n",
    "            return self._get(key,currentNode.leftChild)\n",
    "\n",
    "        else:\n",
    "            return self._get(key,currentNode.rightChild)\n",
    "\n",
    "    # used to call the get method\n",
    "    def __getitem__(self,key):\n",
    "        return self.get(key)\n",
    "\n",
    "    # This method will simply call get and return True if get returns a value, \n",
    "    # or False if it returns None.\n",
    "    def __contains__(self,key):\n",
    "\n",
    "        if self._get(key,self.root):\n",
    "            return True\n",
    "\n",
    "        else:\n",
    "            return False\n",
    "    \n",
    "    # main method used to delete a node\n",
    "    def delete(self,key):\n",
    "        \n",
    "        if self.size > 1:\n",
    "            \n",
    "            nodeToRemove = self._get(key,self.root)\n",
    "\n",
    "            if nodeToRemove:\n",
    "                self.remove(nodeToRemove)\n",
    "                self.size = self.size-1\n",
    "\n",
    "            else:\n",
    "                raise KeyError('Error, key not in tree')\n",
    "\n",
    "        elif self.size == 1 and self.root.key == key:\n",
    "            self.root = None\n",
    "            self.size = self.size - 1\n",
    "            \n",
    "        else:\n",
    "            raise KeyError('Error, key not in tree')\n",
    "\n",
    "    # used to call the delete method\n",
    "    def __delitem__(self,key):\n",
    "        self.delete(key)\n",
    "    \n",
    "    def remove(self,currentNode):\n",
    "        \n",
    "        # first case\n",
    "        if currentNode.isLeaf(): #leaf\n",
    "            # check if the current node is a left child or right child\n",
    "            if currentNode == currentNode.parent.leftChild:\n",
    "                currentNode.parent.leftChild = None\n",
    "            else:\n",
    "                currentNode.parent.rightChild = None\n",
    "        \n",
    "        # third case\n",
    "        elif currentNode.hasBothChildren(): #interior\n",
    "            \n",
    "            succ = currentNode.findSuccessor()\n",
    "            succ.spliceOut()\n",
    "            currentNode.key = succ.key\n",
    "            currentNode.payload = succ.payload\n",
    "\n",
    "        # second case\n",
    "        else: # this node has one child\n",
    "            if currentNode.hasLeftChild():\n",
    "\n",
    "                if currentNode.isLeftChild():\n",
    "                    currentNode.leftChild.parent = currentNode.parent\n",
    "                    currentNode.parent.leftChild = currentNode.leftChild\n",
    "\n",
    "                elif currentNode.isRightChild():\n",
    "                    currentNode.leftChild.parent = currentNode.parent\n",
    "                    currentNode.parent.rightChild = currentNode.leftChild\n",
    "\n",
    "                # the current node is the root, then replace\n",
    "                else:\n",
    "                    currentNode.replaceNodeData(currentNode.leftChild.key,\n",
    "                                    currentNode.leftChild.payload,\n",
    "                                    currentNode.leftChild.leftChild,\n",
    "                                    currentNode.leftChild.rightChild)\n",
    "            else:\n",
    "                \n",
    "                if currentNode.isLeftChild():\n",
    "                    currentNode.rightChild.parent = currentNode.parent\n",
    "                    currentNode.parent.leftChild = currentNode.rightChild\n",
    "\n",
    "                elif currentNode.isRightChild():\n",
    "                    currentNode.rightChild.parent = currentNode.parent\n",
    "                    currentNode.parent.rightChild = currentNode.rightChild\n",
    "                \n",
    "                # the current node is the root, then replace\n",
    "                else:\n",
    "                    currentNode.replaceNodeData(currentNode.rightChild.key,\n",
    "                                    currentNode.rightChild.payload,\n",
    "                                    currentNode.rightChild.leftChild,\n",
    "                                    currentNode.rightChild.rightChild)"
   ]
  },
  {
   "cell_type": "markdown",
   "metadata": {},
   "source": [
    "### Testing BinarySearchTree class without interacting with TreeNode"
   ]
  },
  {
   "cell_type": "code",
   "execution_count": 99,
   "metadata": {},
   "outputs": [
    {
     "name": "stdout",
     "output_type": "stream",
     "text": [
      "yellow\n",
      "at\n"
     ]
    }
   ],
   "source": [
    "mytree = BinarySearchTree()\n",
    "mytree[3]=\"red\"\n",
    "mytree[4]=\"blue\"\n",
    "mytree[6]=\"yellow\"\n",
    "mytree[2]=\"at\"\n",
    "\n",
    "print(mytree[6])\n",
    "print(mytree[2])"
   ]
  },
  {
   "cell_type": "code",
   "execution_count": 100,
   "metadata": {},
   "outputs": [
    {
     "name": "stdout",
     "output_type": "stream",
     "text": [
      "4\n",
      "3\n"
     ]
    }
   ],
   "source": [
    "print(mytree.size)\n",
    "print(mytree.root.key)"
   ]
  },
  {
   "cell_type": "code",
   "execution_count": 101,
   "metadata": {},
   "outputs": [
    {
     "name": "stdout",
     "output_type": "stream",
     "text": [
      "None\n"
     ]
    }
   ],
   "source": [
    "print(mytree[5])"
   ]
  },
  {
   "cell_type": "code",
   "execution_count": 102,
   "metadata": {},
   "outputs": [
    {
     "name": "stdout",
     "output_type": "stream",
     "text": [
      "4\n"
     ]
    }
   ],
   "source": [
    "print(mytree.length())"
   ]
  },
  {
   "cell_type": "code",
   "execution_count": 103,
   "metadata": {},
   "outputs": [],
   "source": [
    "mytree[5] = \"hello\""
   ]
  },
  {
   "cell_type": "code",
   "execution_count": 104,
   "metadata": {},
   "outputs": [
    {
     "name": "stdout",
     "output_type": "stream",
     "text": [
      "5\n"
     ]
    }
   ],
   "source": [
    "print(len(mytree))"
   ]
  },
  {
   "cell_type": "code",
   "execution_count": 105,
   "metadata": {},
   "outputs": [
    {
     "name": "stdout",
     "output_type": "stream",
     "text": [
      "hello\n"
     ]
    }
   ],
   "source": [
    "print(mytree.get(5))"
   ]
  },
  {
   "cell_type": "code",
   "execution_count": 106,
   "metadata": {},
   "outputs": [
    {
     "name": "stdout",
     "output_type": "stream",
     "text": [
      "at\n",
      "red\n",
      "blue\n",
      "hello\n",
      "yellow\n"
     ]
    }
   ],
   "source": [
    "for i in mytree:\n",
    "    if i:\n",
    "        print(i)"
   ]
  },
  {
   "cell_type": "markdown",
   "metadata": {},
   "source": [
    "### Testing BinarySearchTree class with TreeNode"
   ]
  },
  {
   "cell_type": "code",
   "execution_count": 107,
   "metadata": {},
   "outputs": [],
   "source": [
    "bst = BinarySearchTree()\n",
    "bst.put(17, 'a')\n",
    "bst.put(5, 'b')\n",
    "bst.put(35, 'c')\n",
    "bst.put(29, 'd')\n",
    "bst.put(38, 'e')\n",
    "bst.put(2, 'f')\n",
    "bst.put(11, 'g')\n",
    "bst.put(9, 'h')\n",
    "bst.put(16, 'i')\n",
    "bst.put(7, 'j')\n",
    "bst.put(8, 'k')"
   ]
  },
  {
   "cell_type": "code",
   "execution_count": 108,
   "metadata": {},
   "outputs": [
    {
     "name": "stdout",
     "output_type": "stream",
     "text": [
      "f\n",
      "b\n",
      "j\n",
      "k\n",
      "h\n",
      "g\n",
      "i\n",
      "a\n",
      "d\n",
      "c\n",
      "e\n"
     ]
    }
   ],
   "source": [
    "for i in bst:\n",
    "    print(i)"
   ]
  },
  {
   "cell_type": "markdown",
   "metadata": {},
   "source": [
    "#### Creat a showTree function that shows the entire tree with level\n",
    "* Root Level 1 means the root node at level 1\n",
    "* Left Level 3 - 1 means the left child at level 3, and is the 1st element counting from left in that level.\n",
    "* Right Level 2 - 4 means the right child at level 2, and is the 4th element counting from left in that level."
   ]
  },
  {
   "cell_type": "code",
   "execution_count": 109,
   "metadata": {},
   "outputs": [
    {
     "name": "stdout",
     "output_type": "stream",
     "text": [
      "Root Level 1\n",
      "17\n",
      "\n",
      "Left Level 2 - 1\n",
      "5\n",
      "\n",
      "Left Level 3 - 1\n",
      "2\n",
      "\n",
      "Right Level 3 - 2\n",
      "11\n",
      "\n",
      "Left Level 4 - 1\n",
      "9\n",
      "\n",
      "Left Level 5 - 1\n",
      "7\n",
      "\n",
      "Right Level 6 - 1\n",
      "8\n",
      "\n",
      "Right Level 4 - 2\n",
      "16\n",
      "\n",
      "Right Level 2 - 2\n",
      "35\n",
      "\n",
      "Left Level 3 - 3\n",
      "29\n",
      "\n",
      "Right Level 3 - 4\n",
      "38\n",
      "\n"
     ]
    }
   ],
   "source": [
    "import collections\n",
    "\n",
    "def showTree(node, level = 1, d={}):\n",
    "\n",
    "    if level == 1:\n",
    "        d = collections.defaultdict(int)\n",
    "\n",
    "    if not node.parent:\n",
    "        print(\"Root Level\", level)\n",
    "        print(node.key)\n",
    "        print()\n",
    "        level += 1\n",
    "\n",
    "    if node.hasLeftChild():\n",
    "        d[level] += 1\n",
    "        print(\"Left Level\", level, \"-\", d[level])\n",
    "        print(node.leftChild.key)\n",
    "        print()\n",
    "        showTree(node.leftChild, level + 1, d)\n",
    "\n",
    "    if node.hasRightChild():\n",
    "        d[level] += 1\n",
    "        print(\"Right Level\", level, \"-\", d[level])\n",
    "        print(node.rightChild.key)\n",
    "        print()\n",
    "        showTree(node.rightChild, level + 1, d)\n",
    "    \n",
    "\n",
    "showTree(bst.root)\n"
   ]
  },
  {
   "cell_type": "markdown",
   "metadata": {},
   "source": [
    "#### Remove a Node that has two children and show the tree to see the results"
   ]
  },
  {
   "cell_type": "code",
   "execution_count": 110,
   "metadata": {},
   "outputs": [
    {
     "data": {
      "image/png": "[encoded data removed]",
      "text/plain": [
       "<IPython.core.display.Image object>"
      ]
     },
     "execution_count": 110,
     "metadata": {},
     "output_type": "execute_result"
    }
   ],
   "source": [
    "from IPython.display import Image\n",
    "Image(filename = 'TwoChildren.PNG')"
   ]
  },
  {
   "cell_type": "code",
   "execution_count": 111,
   "metadata": {},
   "outputs": [],
   "source": [
    "bst.delete(5)"
   ]
  },
  {
   "cell_type": "code",
   "execution_count": 112,
   "metadata": {},
   "outputs": [
    {
     "name": "stdout",
     "output_type": "stream",
     "text": [
      "Root Level 1\n",
      "17\n",
      "\n",
      "Left Level 2 - 1\n",
      "7\n",
      "\n",
      "Left Level 3 - 1\n",
      "2\n",
      "\n",
      "Right Level 3 - 2\n",
      "11\n",
      "\n",
      "Left Level 4 - 1\n",
      "9\n",
      "\n",
      "Left Level 5 - 1\n",
      "8\n",
      "\n",
      "Right Level 4 - 2\n",
      "16\n",
      "\n",
      "Right Level 2 - 2\n",
      "35\n",
      "\n",
      "Left Level 3 - 3\n",
      "29\n",
      "\n",
      "Right Level 3 - 4\n",
      "38\n",
      "\n"
     ]
    }
   ],
   "source": [
    "# show the tree\n",
    "showTree(bst.root)"
   ]
  },
  {
   "cell_type": "markdown",
   "metadata": {},
   "source": [
    "#### Remove a Node that has only one child and show the tree to see the results"
   ]
  },
  {
   "cell_type": "code",
   "execution_count": 113,
   "metadata": {},
   "outputs": [
    {
     "data": {
      "image/png": "[encoded data removed]",
      "text/plain": [
       "<IPython.core.display.Image object>"
      ]
     },
     "execution_count": 113,
     "metadata": {},
     "output_type": "execute_result"
    }
   ],
   "source": [
    "from IPython.display import Image\n",
    "Image(filename = 'OneChild.PNG')"
   ]
  },
  {
   "cell_type": "code",
   "execution_count": 114,
   "metadata": {},
   "outputs": [],
   "source": [
    "bst = BinarySearchTree()\n",
    "bst.put(17, 'a')\n",
    "bst.put(5, 'b')\n",
    "bst.put(25, 'c')\n",
    "bst.put(2, 'd')\n",
    "bst.put(11, 'e')\n",
    "bst.put(35, 'f')\n",
    "bst.put(9, 'g')\n",
    "bst.put(16, 'h')\n",
    "bst.put(29, 'i')\n",
    "bst.put(38, 'j')\n",
    "bst.put(7, 'k')"
   ]
  },
  {
   "cell_type": "code",
   "execution_count": 115,
   "metadata": {},
   "outputs": [
    {
     "name": "stdout",
     "output_type": "stream",
     "text": [
      "Root Level 1\n",
      "17\n",
      "\n",
      "Left Level 2 - 1\n",
      "5\n",
      "\n",
      "Left Level 3 - 1\n",
      "2\n",
      "\n",
      "Right Level 3 - 2\n",
      "11\n",
      "\n",
      "Left Level 4 - 1\n",
      "9\n",
      "\n",
      "Left Level 5 - 1\n",
      "7\n",
      "\n",
      "Right Level 4 - 2\n",
      "16\n",
      "\n",
      "Right Level 2 - 2\n",
      "25\n",
      "\n",
      "Right Level 3 - 3\n",
      "35\n",
      "\n",
      "Left Level 4 - 3\n",
      "29\n",
      "\n",
      "Right Level 4 - 4\n",
      "38\n",
      "\n"
     ]
    }
   ],
   "source": [
    "showTree(bst.root)"
   ]
  },
  {
   "cell_type": "code",
   "execution_count": 116,
   "metadata": {},
   "outputs": [],
   "source": [
    "bst.delete(25)"
   ]
  },
  {
   "cell_type": "code",
   "execution_count": 117,
   "metadata": {},
   "outputs": [
    {
     "name": "stdout",
     "output_type": "stream",
     "text": [
      "Root Level 1\n",
      "17\n",
      "\n",
      "Left Level 2 - 1\n",
      "5\n",
      "\n",
      "Left Level 3 - 1\n",
      "2\n",
      "\n",
      "Right Level 3 - 2\n",
      "11\n",
      "\n",
      "Left Level 4 - 1\n",
      "9\n",
      "\n",
      "Left Level 5 - 1\n",
      "7\n",
      "\n",
      "Right Level 4 - 2\n",
      "16\n",
      "\n",
      "Right Level 2 - 2\n",
      "35\n",
      "\n",
      "Left Level 3 - 3\n",
      "29\n",
      "\n",
      "Right Level 3 - 4\n",
      "38\n",
      "\n"
     ]
    }
   ],
   "source": [
    "showTree(bst.root)"
   ]
  },
  {
   "cell_type": "markdown",
   "metadata": {},
   "source": [
    "#### Remove a Node that has no child and show the tree to see the results"
   ]
  },
  {
   "cell_type": "code",
   "execution_count": 118,
   "metadata": {},
   "outputs": [
    {
     "data": {
      "image/png": "[encoded data removed]",
      "text/plain": [
       "<IPython.core.display.Image object>"
      ]
     },
     "execution_count": 118,
     "metadata": {},
     "output_type": "execute_result"
    }
   ],
   "source": [
    "from IPython.display import Image\n",
    "Image(filename = 'NoChild.PNG')"
   ]
  },
  {
   "cell_type": "code",
   "execution_count": 119,
   "metadata": {},
   "outputs": [],
   "source": [
    "bst = BinarySearchTree()\n",
    "bst.put(17, 'a')\n",
    "bst.put(5, 'b')\n",
    "bst.put(35, 'c')\n",
    "bst.put(29, 'd')\n",
    "bst.put(38, 'e')\n",
    "bst.put(2, 'f')\n",
    "bst.put(11, 'g')\n",
    "bst.put(9, 'h')\n",
    "bst.put(16, 'i')\n",
    "bst.put(8, 'j')"
   ]
  },
  {
   "cell_type": "code",
   "execution_count": 120,
   "metadata": {},
   "outputs": [
    {
     "name": "stdout",
     "output_type": "stream",
     "text": [
      "Root Level 1\n",
      "17\n",
      "\n",
      "Left Level 2 - 1\n",
      "5\n",
      "\n",
      "Left Level 3 - 1\n",
      "2\n",
      "\n",
      "Right Level 3 - 2\n",
      "11\n",
      "\n",
      "Left Level 4 - 1\n",
      "9\n",
      "\n",
      "Left Level 5 - 1\n",
      "8\n",
      "\n",
      "Right Level 4 - 2\n",
      "16\n",
      "\n",
      "Right Level 2 - 2\n",
      "35\n",
      "\n",
      "Left Level 3 - 3\n",
      "29\n",
      "\n",
      "Right Level 3 - 4\n",
      "38\n",
      "\n"
     ]
    }
   ],
   "source": [
    "showTree(bst.root)"
   ]
  },
  {
   "cell_type": "code",
   "execution_count": 121,
   "metadata": {},
   "outputs": [],
   "source": [
    "bst.delete(16)"
   ]
  },
  {
   "cell_type": "code",
   "execution_count": 122,
   "metadata": {},
   "outputs": [
    {
     "name": "stdout",
     "output_type": "stream",
     "text": [
      "Root Level 1\n",
      "17\n",
      "\n",
      "Left Level 2 - 1\n",
      "5\n",
      "\n",
      "Left Level 3 - 1\n",
      "2\n",
      "\n",
      "Right Level 3 - 2\n",
      "11\n",
      "\n",
      "Left Level 4 - 1\n",
      "9\n",
      "\n",
      "Left Level 5 - 1\n",
      "8\n",
      "\n",
      "Right Level 2 - 2\n",
      "35\n",
      "\n",
      "Left Level 3 - 3\n",
      "29\n",
      "\n",
      "Right Level 3 - 4\n",
      "38\n",
      "\n"
     ]
    }
   ],
   "source": [
    "showTree(bst.root)"
   ]
  },
  {
   "cell_type": "code",
   "execution_count": null,
   "metadata": {},
   "outputs": [],
   "source": []
  }
 ],
 "metadata": {
  "interpreter": {
   "hash": "713550fe996ccd6bfca49754f8f301cea9aaf39cb14e388a1a9ffc2cf9eed65f"
  },
  "kernelspec": {
   "display_name": "Python 3.9.1 64-bit",
   "language": "python",
   "name": "python3"
  },
  "language_info": {
   "codemirror_mode": {
    "name": "ipython",
    "version": 3
   },
   "file_extension": ".py",
   "mimetype": "text/x-python",
   "name": "python",
   "nbconvert_exporter": "python",
   "pygments_lexer": "ipython3",
   "version": "3.9.1"
  },
  "orig_nbformat": 4
 },
 "nbformat": 4,
 "nbformat_minor": 2
}
