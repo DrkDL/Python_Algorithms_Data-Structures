{
 "cells": [
  {
   "cell_type": "markdown",
   "id": "6700308a",
   "metadata": {},
   "source": [
    "# Representing a Tree Through List"
   ]
  },
  {
   "cell_type": "code",
   "execution_count": 1,
   "id": "2604f6fa",
   "metadata": {},
   "outputs": [],
   "source": [
    "def BinaryTree(r):\n",
    "    return [r, [], []] # return a root node and two other empty lists"
   ]
  },
  {
   "cell_type": "code",
   "execution_count": 2,
   "id": "f3a8ac5d",
   "metadata": {},
   "outputs": [],
   "source": [
    "def insertLeft(root, newBranch):\n",
    "    t = root.pop(1)\n",
    "    \n",
    "    if len(t) > 1:\n",
    "        root.insert(1, [newBranch, t, []])\n",
    "    else:\n",
    "        root.insert(1, [newBranch, [], []])\n",
    "    \n",
    "    return root"
   ]
  },
  {
   "cell_type": "code",
   "execution_count": null,
   "id": "4442c396",
   "metadata": {},
   "outputs": [],
   "source": []
  }
 ],
 "metadata": {
  "kernelspec": {
   "display_name": "Python 3 (ipykernel)",
   "language": "python",
   "name": "python3"
  },
  "language_info": {
   "codemirror_mode": {
    "name": "ipython",
    "version": 3
   },
   "file_extension": ".py",
   "mimetype": "text/x-python",
   "name": "python",
   "nbconvert_exporter": "python",
   "pygments_lexer": "ipython3",
   "version": "3.9.7"
  }
 },
 "nbformat": 4,
 "nbformat_minor": 5
}
