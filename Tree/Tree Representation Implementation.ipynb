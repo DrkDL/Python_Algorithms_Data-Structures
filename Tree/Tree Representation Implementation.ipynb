{
 "cells": [
  {
   "cell_type": "markdown",
   "id": "6700308a",
   "metadata": {},
   "source": [
    "# Representing a Tree Through List"
   ]
  },
  {
   "cell_type": "code",
   "execution_count": 4,
   "id": "2604f6fa",
   "metadata": {},
   "outputs": [],
   "source": [
    "# binary tree list -> [root, left child, right child]\n",
    "def BinaryTree(r):\n",
    "    return [r, [], []] # return a root node and two other empty lists"
   ]
  },
  {
   "cell_type": "code",
   "execution_count": 5,
   "id": "f3a8ac5d",
   "metadata": {},
   "outputs": [],
   "source": [
    " def insertLeft(root, newBranch):\n",
    "    \n",
    "    # store the left branch of the root into t\n",
    "    # after storing, the branch will be removed from the list\n",
    "    t = root.pop(1)\n",
    "    \n",
    "    # if there is something in t element meaning the root is not a leaf,\n",
    "    # then attach that subtree after the new branch node\n",
    "    if len(t) > 1:\n",
    "        root.insert(1, [newBranch, t, []])\n",
    "        \n",
    "    # otherwise, just add an empty list/leaf to it \n",
    "    else:\n",
    "        root.insert(1, [newBranch, [], []])\n",
    "    \n",
    "    return root"
   ]
  },
  {
   "cell_type": "code",
   "execution_count": 6,
   "id": "4442c396",
   "metadata": {},
   "outputs": [],
   "source": [
    " def insertRight(root, newBranch):\n",
    "    \n",
    "    # store the right branch of the root into t\n",
    "    # after storing, the branch will be removed from the list\n",
    "    t = root.pop(2)\n",
    "    \n",
    "    # if there is something in t element meaning the right root is not a leaf,\n",
    "    # then attach that subtree after the new branch node\n",
    "    if len(t) > 1:\n",
    "        root.insert(2, [newBranch, [], t])\n",
    "        \n",
    "    # otherwise, just add an empty list/leaf to it \n",
    "    else:\n",
    "        root.insert(2, [newBranch, [], []])\n",
    "    \n",
    "    return root"
   ]
  },
  {
   "cell_type": "code",
   "execution_count": 7,
   "id": "cd9b9b4b",
   "metadata": {},
   "outputs": [],
   "source": [
    "def getRootVal(root):\n",
    "    return root[0]"
   ]
  },
  {
   "cell_type": "code",
   "execution_count": 8,
   "id": "e8e41155",
   "metadata": {},
   "outputs": [],
   "source": [
    "def setRootVal(root, newVal):\n",
    "    root[0] = newVal"
   ]
  },
  {
   "cell_type": "code",
   "execution_count": 9,
   "id": "11d34416",
   "metadata": {},
   "outputs": [],
   "source": [
    "def getLeftChild(root):\n",
    "    return root[1]"
   ]
  },
  {
   "cell_type": "code",
   "execution_count": 10,
   "id": "0dd3168b",
   "metadata": {},
   "outputs": [],
   "source": [
    "def getRightChild(root):\n",
    "    return root[2]"
   ]
  },
  {
   "cell_type": "code",
   "execution_count": 12,
   "id": "dfbc30a0",
   "metadata": {},
   "outputs": [],
   "source": [
    "# create a binaryTree variable with a root value of 3\n",
    "r = BinaryTree(3)"
   ]
  },
  {
   "cell_type": "code",
   "execution_count": 13,
   "id": "1f6bb0bf",
   "metadata": {},
   "outputs": [
    {
     "data": {
      "text/plain": [
       "[3, [4, [], []], []]"
      ]
     },
     "execution_count": 13,
     "metadata": {},
     "output_type": "execute_result"
    }
   ],
   "source": [
    "# insert a new branch to the left with a value of 4\n",
    "insertLeft(r, 4)"
   ]
  },
  {
   "cell_type": "code",
   "execution_count": 15,
   "id": "84a2f0e6",
   "metadata": {},
   "outputs": [
    {
     "data": {
      "text/plain": [
       "[3, [5, [4, [], []], []], []]"
      ]
     },
     "execution_count": 15,
     "metadata": {},
     "output_type": "execute_result"
    }
   ],
   "source": [
    "insertLeft(r, 5)"
   ]
  },
  {
   "cell_type": "code",
   "execution_count": 16,
   "id": "d4703436",
   "metadata": {},
   "outputs": [
    {
     "data": {
      "text/plain": [
       "[3, [5, [4, [], []], []], [6, [], []]]"
      ]
     },
     "execution_count": 16,
     "metadata": {},
     "output_type": "execute_result"
    }
   ],
   "source": [
    "insertRight(r, 6)"
   ]
  },
  {
   "cell_type": "code",
   "execution_count": 17,
   "id": "83039570",
   "metadata": {},
   "outputs": [
    {
     "data": {
      "text/plain": [
       "[3, [5, [4, [], []], []], [7, [], [6, [], []]]]"
      ]
     },
     "execution_count": 17,
     "metadata": {},
     "output_type": "execute_result"
    }
   ],
   "source": [
    "insertRight(r, 7)"
   ]
  },
  {
   "cell_type": "code",
   "execution_count": 18,
   "id": "4ace54f8",
   "metadata": {},
   "outputs": [
    {
     "name": "stdout",
     "output_type": "stream",
     "text": [
      "[5, [4, [], []], []]\n"
     ]
    }
   ],
   "source": [
    "l = getLeftChild(r)\n",
    "print(l)"
   ]
  },
  {
   "cell_type": "code",
   "execution_count": 20,
   "id": "2e2b20b8",
   "metadata": {},
   "outputs": [
    {
     "name": "stdout",
     "output_type": "stream",
     "text": [
      "[3, [9, [4, [], []], []], [7, [], [6, [], []]]]\n"
     ]
    }
   ],
   "source": [
    "setRootVal(l, 9)\n",
    "print(r)"
   ]
  },
  {
   "cell_type": "code",
   "execution_count": null,
   "id": "2157d536",
   "metadata": {},
   "outputs": [],
   "source": []
  }
 ],
 "metadata": {
  "kernelspec": {
   "display_name": "Python 3 (ipykernel)",
   "language": "python",
   "name": "python3"
  },
  "language_info": {
   "codemirror_mode": {
    "name": "ipython",
    "version": 3
   },
   "file_extension": ".py",
   "mimetype": "text/x-python",
   "name": "python",
   "nbconvert_exporter": "python",
   "pygments_lexer": "ipython3",
   "version": "3.9.7"
  }
 },
 "nbformat": 4,
 "nbformat_minor": 5
}
