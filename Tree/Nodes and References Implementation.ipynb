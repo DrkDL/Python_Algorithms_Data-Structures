{
 "cells": [
  {
   "cell_type": "markdown",
   "id": "2073c265",
   "metadata": {},
   "source": [
    "# Representing a Tree Nodes and References\n",
    "\n",
    "## simple binary tree data structure"
   ]
  },
  {
   "cell_type": "code",
   "execution_count": 3,
   "id": "914a662a",
   "metadata": {},
   "outputs": [],
   "source": [
    "class BinaryTree(object):\n",
    "    \n",
    "    def __init__(self, rootObj):\n",
    "        \n",
    "        # create a key value for the root\n",
    "        self.key = rootObj\n",
    "        # create two null children left and right leaves\n",
    "        self.leftChild = None\n",
    "        self.rightChild = None\n",
    "    \n",
    "    def insertLeft(self, newNode):\n",
    "        \n",
    "        # if current left child is a leaf, just add a new branch\n",
    "        if self.leftChild == None:\n",
    "            self.leftChild = BinaryTree(newNode)\n",
    "        \n",
    "        # otherwise, push the subtree down to the lower branch\n",
    "        else:\n",
    "            # create a new subtree and store into t\n",
    "            t = BinaryTree(newNode)\n",
    "            # the left node of this subtree will be the current left subtree\n",
    "            t.leftChild = self.leftChild\n",
    "            # the current left subtree will be the new subtree of t\n",
    "            self.leftChild = t\n",
    "            \n",
    "    def insertRight(self, newNode):\n",
    "        \n",
    "        # if current right child is a leaf, just add a new branch\n",
    "        if self.rightChild == None:\n",
    "            self.rightChild = BinaryTree(newNode)\n",
    "        \n",
    "        # otherwise, push the subtree down to the lower branch\n",
    "        else:\n",
    "            # create a new subtree and store into t\n",
    "            t = BinaryTree(newNode)\n",
    "            # the right node of this subtree will be the current right subtree\n",
    "            t.rightChild = self.rightChild\n",
    "            # the current right subtree will be the new subtree of t\n",
    "            # do this overwriting step last because self.rightChild's original content was needed earlier\n",
    "            self.rightChild = t\n",
    "    \n",
    "    # create methods that we can access things such as left/right children and root nodes\n",
    "    def getRightChild(self):\n",
    "        return self.rightChild\n",
    "    \n",
    "    def getLeftChild(self):\n",
    "        return self.leftChild\n",
    "    \n",
    "    def setRootVal(self, obj):\n",
    "        self.key = obj\n",
    "        \n",
    "    def getRootVal(self):\n",
    "        return self.key"
   ]
  },
  {
   "cell_type": "code",
   "execution_count": 5,
   "id": "52dfcafc",
   "metadata": {},
   "outputs": [],
   "source": [
    "r = BinaryTree('a') # root object or value can be anything"
   ]
  },
  {
   "cell_type": "code",
   "execution_count": 6,
   "id": "f137befb",
   "metadata": {},
   "outputs": [
    {
     "data": {
      "text/plain": [
       "'a'"
      ]
     },
     "execution_count": 6,
     "metadata": {},
     "output_type": "execute_result"
    }
   ],
   "source": [
    "r.getRootVal()"
   ]
  },
  {
   "cell_type": "code",
   "execution_count": 8,
   "id": "f95f46c3",
   "metadata": {},
   "outputs": [
    {
     "name": "stdout",
     "output_type": "stream",
     "text": [
      "None\n"
     ]
    }
   ],
   "source": [
    "print(r.getLeftChild())"
   ]
  },
  {
   "cell_type": "code",
   "execution_count": 9,
   "id": "a2cce56e",
   "metadata": {},
   "outputs": [],
   "source": [
    "r.insertLeft('b')"
   ]
  },
  {
   "cell_type": "code",
   "execution_count": 11,
   "id": "710728fd",
   "metadata": {},
   "outputs": [
    {
     "data": {
      "text/plain": [
       "'b'"
      ]
     },
     "execution_count": 11,
     "metadata": {},
     "output_type": "execute_result"
    }
   ],
   "source": [
    "r.getLeftChild().getRootVal()"
   ]
  },
  {
   "cell_type": "code",
   "execution_count": null,
   "id": "b88063ac",
   "metadata": {},
   "outputs": [],
   "source": []
  }
 ],
 "metadata": {
  "kernelspec": {
   "display_name": "Python 3 (ipykernel)",
   "language": "python",
   "name": "python3"
  },
  "language_info": {
   "codemirror_mode": {
    "name": "ipython",
    "version": 3
   },
   "file_extension": ".py",
   "mimetype": "text/x-python",
   "name": "python",
   "nbconvert_exporter": "python",
   "pygments_lexer": "ipython3",
   "version": "3.9.7"
  }
 },
 "nbformat": 4,
 "nbformat_minor": 5
}
