{
 "cells": [
  {
   "cell_type": "code",
   "execution_count": 16,
   "id": "5a7bbfbf",
   "metadata": {},
   "outputs": [],
   "source": [
    "class HashTable(object):\n",
    "    \n",
    "    def __init__(self, size):\n",
    "        \n",
    "        self.size = size\n",
    "        self.slots = [None] * self.size\n",
    "        self.data = [None] * self.size\n",
    "    \n",
    "    def put(self, key, data):\n",
    "        \n",
    "        hashvalue = self.hashfunction(key, len(self.slots))\n",
    "        \n",
    "        if self.slots[hashvalue] == None:\n",
    "            \n",
    "            self.slots[hashvalue] = key\n",
    "            self.data[hashvalue] = data\n",
    "            \n",
    "        else:\n",
    "            \n",
    "            if self.slots[hashvalue] == key:\n",
    "                \n",
    "                self.data[hashvalue] = data\n",
    "            \n",
    "            else:\n",
    "                \n",
    "                nextslot = slef.rehash(hashvalue, len(self.slots))\n",
    "                \n",
    "                while self.slots[nextslot] != None and self.slots[nextslot] != key:\n",
    "                    nextslot = self.rehash(nextslot, len(self.slots))\n",
    "                    \n",
    "                if self.slots[nextslot] == None:\n",
    "                    \n",
    "                    self.slots[nextslot] = key\n",
    "                    self.data[nextslot] = data\n",
    "                    \n",
    "                else:\n",
    "                    self.data[nextslot] = data\n",
    "        \n",
    "    def hashfunction(self, key, size):\n",
    "        return key%size\n",
    "    \n",
    "    def rehash(self, oldhash, size):\n",
    "        return (oldhash+1)%size\n",
    "    \n",
    "    def get(self, key):\n",
    "        \n",
    "        startslot = self.hashfunction(key, len(self.slots))\n",
    "        data = None\n",
    "        stop = False\n",
    "        found = False\n",
    "        position = startslot\n",
    "        \n",
    "        while self.slots[position] != None and not found and not stop:\n",
    "            \n",
    "            if self.slots[position] == key:\n",
    "                \n",
    "                found = True\n",
    "                data = self.data[position]\n",
    "                \n",
    "            else:\n",
    "                \n",
    "                position = self.rehash(position, len(self.slots))      \n",
    "                if position == startslot:    \n",
    "                    stop = True\n",
    "                    \n",
    "        return data\n",
    "    \n",
    "    def __getitem__(self, key):\n",
    "        return self.get(key)\n",
    "    \n",
    "    def __setitem__(self, key, data):\n",
    "        self.put(key, data)"
   ]
  },
  {
   "cell_type": "code",
   "execution_count": 17,
   "id": "9b9630f2",
   "metadata": {},
   "outputs": [],
   "source": [
    "h = HashTable(5)"
   ]
  },
  {
   "cell_type": "code",
   "execution_count": 18,
   "id": "f9f9ee7b",
   "metadata": {},
   "outputs": [],
   "source": [
    "h[1] = 'one'\n",
    "h[2] = 'two'\n",
    "h[3] = 'three'"
   ]
  },
  {
   "cell_type": "code",
   "execution_count": 21,
   "id": "bd5555ce",
   "metadata": {},
   "outputs": [
    {
     "data": {
      "text/plain": [
       "('one', 'two', 'three')"
      ]
     },
     "execution_count": 21,
     "metadata": {},
     "output_type": "execute_result"
    }
   ],
   "source": [
    "h[1], h[2], h[3]"
   ]
  },
  {
   "cell_type": "code",
   "execution_count": null,
   "id": "21ef7fd0",
   "metadata": {},
   "outputs": [],
   "source": []
  }
 ],
 "metadata": {
  "kernelspec": {
   "display_name": "Python 3 (ipykernel)",
   "language": "python",
   "name": "python3"
  },
  "language_info": {
   "codemirror_mode": {
    "name": "ipython",
    "version": 3
   },
   "file_extension": ".py",
   "mimetype": "text/x-python",
   "name": "python",
   "nbconvert_exporter": "python",
   "pygments_lexer": "ipython3",
   "version": "3.9.7"
  }
 },
 "nbformat": 4,
 "nbformat_minor": 5
}
