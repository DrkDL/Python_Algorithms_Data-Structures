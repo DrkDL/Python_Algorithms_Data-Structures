{
 "cells": [
  {
   "cell_type": "markdown",
   "metadata": {},
   "source": [
    "# Search Overview\n",
    "\n",
    "### In python we can use In opeartor to search for elements in a list\n",
    "#### Ex: 15 in [1, 2, 3, 4] will return False\n",
    "#### Ex: 4 in [1, 2, 3, 4] will return True\n",
    "\n",
    "### How does the underlying process work?"
   ]
  },
  {
   "cell_type": "markdown",
   "metadata": {},
   "source": [
    "## 1. Sequential Search\n",
    "\n",
    "### Basic searching technique, sequentially go through the data structure, comparing elements as you go along.\n"
   ]
  },
  {
   "cell_type": "markdown",
   "metadata": {},
   "source": [
    "## 2. Binary Search\n",
    "\n",
    "### We can take greater advantage of the ordered list. Instead of searching the list in sequence, a binary search will start by examining the middle item. \n",
    "\n",
    "* A binary search will start by examining the middle item.\n",
    "* If that item is the one we are searching for, we are done.\n",
    "* If the item we are searching for is greater than the middle item, we know that the entire lower half of the list as well as the middle item can be * eliminated from further consideration.\n",
    "* The item, if it is in the list, must be in the upper half.\n",
    "* We can then repeat the process with the upper half. Start at the middle item and compare it against what we are looking for. \n",
    "* Again, we either find it or split the list in half, therefore eliminating another large part of our possible search space.\n"
   ]
  },
  {
   "cell_type": "markdown",
   "metadata": {},
   "source": [
    "## 3. Hashing\n",
    "\n",
    "### We can build a data structure that can be searched in O(1) time. This concept is referred to as hashing.\n",
    "\n",
    "### The mapping between an item and the slot where that item belongs in the hash table is called the hash function. The hash function will take any item in the collection and return an integer in the range of slot names, between 0 and m-1.\n",
    "\n",
    "#### Hash Function #1 - Remainder Method\n",
    "* Assume that we have the set of integer items 54, 26, 93, 17, 77, and 31. \n",
    "* We’ve preassigned an empty hash table of m=11\n",
    "* Our remainder hash function then is: h(item)=item%11\n",
    "* Let’s see the results as a table\n",
    "\n",
    "* We’re now ready to occupy 6 out of the  11 slots.\n",
    "* This is referred to as the load factor, and is commonly denoted by λ = (numberofitems) / (tablesize).\n",
    "* For this example, λ=6/11.\n",
    "# <img src=\"Remainder1.png\">\n",
    "* Our hash table has now been loaded.\n",
    "# <img src=\"Remainder2.png\">\n",
    "* When we want to search for an item, we simply use the hash function to compute the slot name for the item and then check the hash table to see if it is present. \n",
    "* This searching operation is O(1), since a constant amount of time is required to compute the hash value and then index the hash table at that location. \n",
    "\n",
    "#### Hash Function #2 - Folding Method\n",
    "* The folding method for constructing hash functions begins by dividing the item into equal-size pieces (the last piece may not be of equal size). \n",
    "* These pieces are then added together to give the resulting hash value.\n",
    "* If our item was the phone number 436-555-4601\n",
    "* We would take the digits and divide them into groups of 2 (43,65,55,46,01). \n",
    "* After the addition, 43+65+55+46+01, we get 210. \n",
    "* If we assume our hash table has 11 slots, then we need to perform the extra step of dividing by 11 and keeping the remainder. \n",
    "* 210 % 11 is 1, so the phone number 436-555-4601 hashes to slot 1.\n",
    "\n",
    "#### Hash Function #3 - Mid-Square Method\n",
    "* For the mid-square method we first square the item, and then extract some portion of the resulting digits. \n",
    "* For example, if the item were 44, we would first compute 44^2=1,936.\n",
    "* By extracting the middle two digits, 93, and performing the remainder step, we get 93%11 =5\n",
    "\n",
    "### Non-integer elements\n",
    "\n",
    "#### We can also create hash functions for character-based items such as strings. The word “cat” can be thought of as a sequence of ordinal values.\n",
    "# <img src=\"ordinal.png\">\n",
    "\n",
    "### Collision Resolution\n",
    "* One method for resolving collisions looks into the hash table and tries to find another open slot to hold the item that caused the collision. \n",
    "* We could start at the original hash value position and then move in a sequential manner through the slots until we encounter the first slot that is empty.\n",
    "* This collision resolution process is referred to as open addressing in that it tries to find the next open slot or address in the hash table.\n",
    "* By systematically visiting each slot one at a time, we are performing an open addressing technique called linear probing.\n",
    "* Consider the following table:\n",
    "* What if we had to add 44,55, and 20?\n",
    "# <img src=\"Linear Probing.png\">\n",
    "* With linear probing we keep moving down until we find an empty slot!\n",
    "# <img src=\"Linear Probing2.png\">\n",
    "* One way to deal with clustering is to skip slots, thereby more evenly distributing the items that have caused collisions. \n",
    "# <img src=\"Linear Probing3.png\">\n",
    "* The general name for this process of looking for another slot after a collision is rehashing. \n",
    "* A variation of the linear probing idea is called quadratic probing. \n",
    "* Instead of using a constant “skip” value, we use a rehash function that increments the hash value by 1, 3, 5, 7, 9, and so on. \n",
    "* This means that if the first hash value is h, the successive values are h+1, h+4, h+9, h+16, and so on.\n",
    "* An alternative method for handling the collision problem is to allow each slot to hold a reference to a collection (or chain) of items.\n",
    "* Chaining allows many items to exist at the same location in the hash table. \n",
    "* When collisions happen, the item is still placed in the proper slot of the hash table.\n",
    "* Chaining\n",
    "# <img src=\"Chaining.png\">\n",
    "* As more and more items hash to the same location, the difficulty of searching for the item in the collection increases.\n"
   ]
  },
  {
   "cell_type": "markdown",
   "metadata": {},
   "source": []
  }
 ],
 "metadata": {
  "kernelspec": {
   "display_name": "Python 3 (ipykernel)",
   "language": "python",
   "name": "python3"
  },
  "language_info": {
   "codemirror_mode": {
    "name": "ipython",
    "version": 3
   },
   "file_extension": ".py",
   "mimetype": "text/x-python",
   "name": "python",
   "nbconvert_exporter": "python",
   "pygments_lexer": "ipython3",
   "version": "3.9.7"
  }
 },
 "nbformat": 4,
 "nbformat_minor": 2
}
