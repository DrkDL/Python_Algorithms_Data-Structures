{
 "cells": [
  {
   "cell_type": "markdown",
   "metadata": {},
   "source": [
    "# Search Overview\n",
    "\n",
    "### In python we can use In opeartor to search for elements in a list\n",
    "#### Ex: 15 in [1, 2, 3, 4] will return False\n",
    "#### Ex: 4 in [1, 2, 3, 4] will return True\n",
    "\n",
    "### How does the underlying process work?"
   ]
  },
  {
   "cell_type": "markdown",
   "metadata": {},
   "source": [
    "## 1. Sequential Search\n",
    "\n",
    "### Basic searching technique, sequentially go through the data structure, comparing elements as you go along.\n"
   ]
  },
  {
   "cell_type": "markdown",
   "metadata": {},
   "source": [
    "## 2. Binary Search\n",
    "\n",
    "### We can take greater advantage of the ordered list. Instead of searching the list in sequence, a binary search will start by examining the middle item. \n",
    "\n",
    "* A binary search will start by examining the middle item.\n",
    "* If that item is the one we are searching for, we are done.\n",
    "* If the item we are searching for is greater than the middle item, we know that the entire lower half of the list as well as the middle item can be * eliminated from further consideration.\n",
    "* The item, if it is in the list, must be in the upper half.\n",
    "* We can then repeat the process with the upper half. Start at the middle item and compare it against what we are looking for. \n",
    "* Again, we either find it or split the list in half, therefore eliminating another large part of our possible search space.\n"
   ]
  },
  {
   "cell_type": "markdown",
   "metadata": {},
   "source": [
    "## 3. Hashing\n",
    "\n",
    "### "
   ]
  }
 ],
 "metadata": {
  "language_info": {
   "name": "python"
  },
  "orig_nbformat": 4
 },
 "nbformat": 4,
 "nbformat_minor": 2
}
