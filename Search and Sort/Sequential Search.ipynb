{
 "cells": [
  {
   "cell_type": "markdown",
   "metadata": {},
   "source": [
    "# Search Overview\n",
    "\n",
    "### In python we can use In opeartor to search for elements in a list\n",
    "#### Ex: 15 in [1, 2, 3, 4] will return False\n",
    "#### Ex: 4 in [1, 2, 3, 4] will return True\n",
    "\n",
    "### How does the underlying process work?"
   ]
  },
  {
   "cell_type": "markdown",
   "metadata": {},
   "source": [
    "# Sequential Search"
   ]
  },
  {
   "cell_type": "code",
   "execution_count": null,
   "metadata": {},
   "outputs": [],
   "source": []
  }
 ],
 "metadata": {
  "language_info": {
   "name": "python"
  },
  "orig_nbformat": 4
 },
 "nbformat": 4,
 "nbformat_minor": 2
}
